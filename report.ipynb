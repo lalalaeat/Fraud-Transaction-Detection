{
 "cells": [
  {
   "cell_type": "code",
   "execution_count": 1,
   "metadata": {},
   "outputs": [],
   "source": [
    "import os\n",
    "import numpy as np\n",
    "import pandas as pd\n",
    "import matplotlib.pyplot as plt\n",
    "import seaborn as sns\n",
    "import statsmodels.api as sm\n",
    "from sklearn import metrics\n",
    "from random import shuffle\n",
    "from random import seed\n",
    "import category_encoders as ce\n",
    "from sklearn.metrics import roc_auc_score\n",
    "from sklearn import ensemble\n",
    "from sklearn.model_selection import StratifiedKFold\n",
    "import lightgbm as lgb\n",
    "import warnings\n",
    "warnings.filterwarnings('ignore')"
   ]
  },
  {
   "cell_type": "code",
   "execution_count": 2,
   "metadata": {},
   "outputs": [],
   "source": [
    "identity = pd.read_csv(\"train_identity.csv\")\n",
    "transaction = pd.read_csv(\"train_transaction.csv\")\n",
    "total_df = pd.merge(identity, transaction, how='right', on='TransactionID')"
   ]
  },
  {
   "cell_type": "markdown",
   "metadata": {},
   "source": [
    "# Drop columns with missing values more than 60%"
   ]
  },
  {
   "cell_type": "code",
   "execution_count": 4,
   "metadata": {},
   "outputs": [],
   "source": [
    "missing_most=total_df.columns[total_df.isnull().sum()/len(total_df)>0.6]"
   ]
  },
  {
   "cell_type": "code",
   "execution_count": 5,
   "metadata": {},
   "outputs": [
    {
     "data": {
      "text/plain": [
       "208"
      ]
     },
     "execution_count": 5,
     "metadata": {},
     "output_type": "execute_result"
    }
   ],
   "source": [
    "len(missing_most)"
   ]
  },
  {
   "cell_type": "code",
   "execution_count": 6,
   "metadata": {},
   "outputs": [],
   "source": [
    "df=total_df.drop(missing_most,axis=1)"
   ]
  },
  {
   "cell_type": "code",
   "execution_count": 7,
   "metadata": {},
   "outputs": [
    {
     "data": {
      "text/plain": [
       "(590540, 226)"
      ]
     },
     "execution_count": 7,
     "metadata": {},
     "output_type": "execute_result"
    }
   ],
   "source": [
    "df.shape"
   ]
  },
  {
   "cell_type": "markdown",
   "metadata": {},
   "source": [
    "Remove correlated"
   ]
  },
  {
   "cell_type": "code",
   "execution_count": 8,
   "metadata": {},
   "outputs": [],
   "source": [
    "float_cols = np.where(df.dtypes == 'float64')\n",
    "float_df = df.iloc[:, list(float_cols)[0]]\n",
    "cor = float_df.corr() \n",
    "correlation_threshold = 0.95\n",
    "corr = cor.copy()\n",
    "corr.loc[:,:] =  np.tril(corr, k=-1)\n",
    "already_in = set()\n",
    "result = []\n",
    "for col in corr:\n",
    "    perfect_corr = corr[col][corr[col] > correlation_threshold].index.tolist()\n",
    "    if perfect_corr and col not in already_in:\n",
    "        already_in.update(set(perfect_corr))\n",
    "        perfect_corr.append(col)\n",
    "        result.append(perfect_corr)\n",
    "drop = []\n",
    "length = len(result)"
   ]
  },
  {
   "cell_type": "code",
   "execution_count": 9,
   "metadata": {},
   "outputs": [],
   "source": [
    "uncorr_features = list(df.columns)\n",
    "for i in range(length):\n",
    "    for j in result[i][1:]:\n",
    "        if j in uncorr_features:\n",
    "            uncorr_features.remove(j)\n",
    "        if j not in drop:\n",
    "            drop.append(j)"
   ]
  },
  {
   "cell_type": "code",
   "execution_count": 10,
   "metadata": {},
   "outputs": [
    {
     "data": {
      "text/plain": [
       "166"
      ]
     },
     "execution_count": 10,
     "metadata": {},
     "output_type": "execute_result"
    }
   ],
   "source": [
    "len(uncorr_features)"
   ]
  },
  {
   "cell_type": "code",
   "execution_count": 11,
   "metadata": {},
   "outputs": [
    {
     "data": {
      "text/plain": [
       "60"
      ]
     },
     "execution_count": 11,
     "metadata": {},
     "output_type": "execute_result"
    }
   ],
   "source": [
    "len(drop)"
   ]
  },
  {
   "cell_type": "code",
   "execution_count": 12,
   "metadata": {},
   "outputs": [
    {
     "data": {
      "text/plain": [
       "(590540, 166)"
      ]
     },
     "execution_count": 12,
     "metadata": {},
     "output_type": "execute_result"
    }
   ],
   "source": [
    "df=df[uncorr_features]\n",
    "df.shape"
   ]
  },
  {
   "cell_type": "code",
   "execution_count": 13,
   "metadata": {},
   "outputs": [
    {
     "data": {
      "text/plain": [
       "['TransactionID',\n",
       " 'isFraud',\n",
       " 'TransactionDT',\n",
       " 'TransactionAmt',\n",
       " 'ProductCD',\n",
       " 'card1',\n",
       " 'card2',\n",
       " 'card3',\n",
       " 'card4',\n",
       " 'card5',\n",
       " 'card6',\n",
       " 'addr1',\n",
       " 'addr2',\n",
       " 'dist1',\n",
       " 'P_emaildomain',\n",
       " 'C2',\n",
       " 'C3',\n",
       " 'C5',\n",
       " 'C9',\n",
       " 'C13',\n",
       " 'D2',\n",
       " 'D3',\n",
       " 'D4',\n",
       " 'D5',\n",
       " 'D10',\n",
       " 'D11',\n",
       " 'D15',\n",
       " 'M1',\n",
       " 'M2',\n",
       " 'M3',\n",
       " 'M4',\n",
       " 'M5',\n",
       " 'M6',\n",
       " 'M7',\n",
       " 'M8',\n",
       " 'M9',\n",
       " 'V1',\n",
       " 'V2',\n",
       " 'V3',\n",
       " 'V4',\n",
       " 'V5',\n",
       " 'V6',\n",
       " 'V7',\n",
       " 'V8',\n",
       " 'V9',\n",
       " 'V11',\n",
       " 'V12',\n",
       " 'V13',\n",
       " 'V14',\n",
       " 'V16',\n",
       " 'V18',\n",
       " 'V19',\n",
       " 'V20',\n",
       " 'V22',\n",
       " 'V23',\n",
       " 'V24',\n",
       " 'V25',\n",
       " 'V26',\n",
       " 'V28',\n",
       " 'V30',\n",
       " 'V32',\n",
       " 'V34',\n",
       " 'V35',\n",
       " 'V36',\n",
       " 'V37',\n",
       " 'V38',\n",
       " 'V39',\n",
       " 'V40',\n",
       " 'V41',\n",
       " 'V43',\n",
       " 'V44',\n",
       " 'V45',\n",
       " 'V46',\n",
       " 'V47',\n",
       " 'V49',\n",
       " 'V52',\n",
       " 'V53',\n",
       " 'V54',\n",
       " 'V55',\n",
       " 'V56',\n",
       " 'V58',\n",
       " 'V60',\n",
       " 'V61',\n",
       " 'V62',\n",
       " 'V64',\n",
       " 'V65',\n",
       " 'V66',\n",
       " 'V67',\n",
       " 'V68',\n",
       " 'V70',\n",
       " 'V72',\n",
       " 'V74',\n",
       " 'V75',\n",
       " 'V76',\n",
       " 'V77',\n",
       " 'V78',\n",
       " 'V79',\n",
       " 'V81',\n",
       " 'V82',\n",
       " 'V83',\n",
       " 'V85',\n",
       " 'V86',\n",
       " 'V87',\n",
       " 'V88',\n",
       " 'V89',\n",
       " 'V91',\n",
       " 'V93',\n",
       " 'V97',\n",
       " 'V98',\n",
       " 'V99',\n",
       " 'V100',\n",
       " 'V101',\n",
       " 'V104',\n",
       " 'V106',\n",
       " 'V107',\n",
       " 'V108',\n",
       " 'V109',\n",
       " 'V110',\n",
       " 'V111',\n",
       " 'V112',\n",
       " 'V113',\n",
       " 'V114',\n",
       " 'V115',\n",
       " 'V116',\n",
       " 'V117',\n",
       " 'V118',\n",
       " 'V119',\n",
       " 'V120',\n",
       " 'V121',\n",
       " 'V122',\n",
       " 'V123',\n",
       " 'V124',\n",
       " 'V125',\n",
       " 'V129',\n",
       " 'V130',\n",
       " 'V131',\n",
       " 'V135',\n",
       " 'V136',\n",
       " 'V137',\n",
       " 'V281',\n",
       " 'V282',\n",
       " 'V283',\n",
       " 'V284',\n",
       " 'V285',\n",
       " 'V286',\n",
       " 'V287',\n",
       " 'V288',\n",
       " 'V289',\n",
       " 'V290',\n",
       " 'V292',\n",
       " 'V297',\n",
       " 'V300',\n",
       " 'V301',\n",
       " 'V303',\n",
       " 'V304',\n",
       " 'V305',\n",
       " 'V309',\n",
       " 'V310',\n",
       " 'V311',\n",
       " 'V312',\n",
       " 'V313',\n",
       " 'V314',\n",
       " 'V315',\n",
       " 'V319',\n",
       " 'V320',\n",
       " 'V321']"
      ]
     },
     "execution_count": 13,
     "metadata": {},
     "output_type": "execute_result"
    }
   ],
   "source": [
    "uncorr_features"
   ]
  },
  {
   "cell_type": "markdown",
   "metadata": {},
   "source": [
    "# D features dive (TransactionDT based)"
   ]
  },
  {
   "cell_type": "markdown",
   "metadata": {},
   "source": [
    "In this kernel we analyse the TransactionDT column, and support our hypothesis that the TransactionDT column starts at the 1st of December. We guess because the kaggle competition is released at sep. 2019\n",
    "\n",
    "We can use the TransactionDT column to calculate features such as weekday and hour."
   ]
  },
  {
   "cell_type": "code",
   "execution_count": 14,
   "metadata": {},
   "outputs": [],
   "source": [
    "t_i = pd.read_csv(\"test_identity.csv\")\n",
    "t_t = pd.read_csv(\"test_transaction.csv\")\n",
    "test_df = pd.merge(t_i, t_t, how='right', on='TransactionID')"
   ]
  },
  {
   "cell_type": "code",
   "execution_count": 15,
   "metadata": {},
   "outputs": [],
   "source": [
    "new_df=pd.concat([total_df,test_df],axis=0,sort=False)"
   ]
  },
  {
   "cell_type": "code",
   "execution_count": 16,
   "metadata": {},
   "outputs": [
    {
     "data": {
      "text/plain": [
       "1097231"
      ]
     },
     "execution_count": 16,
     "metadata": {},
     "output_type": "execute_result"
    }
   ],
   "source": [
    "len(new_df)"
   ]
  },
  {
   "cell_type": "code",
   "execution_count": 17,
   "metadata": {},
   "outputs": [
    {
     "name": "stdout",
     "output_type": "stream",
     "text": [
      "days: 394.9993634259259\n",
      "months: 13\n"
     ]
    }
   ],
   "source": [
    "s=min(new_df['TransactionDT'])\n",
    "e=max(new_df['TransactionDT'])\n",
    "days=(e-s)/24/3600\n",
    "months=days/30\n",
    "print('days:',days)#almost 395 days!\n",
    "print('months:',round(months))"
   ]
  },
  {
   "cell_type": "markdown",
   "metadata": {},
   "source": [
    "The difference e-s = 34127945 but we don't know is it in seconds,minutes or hours at first.\n",
    "\n",
    "If it is in hours then the dataset timespan will be (e-s)/24/365 = 3895.884132 years which is impossible.\n",
    "\n",
    "if it is in minutes then the dataset timespan will be (e-s)/60/24/365 = 64.931402 years which is not possible because Vesta Corporation was founded in 1995.\n",
    "\n",
    "If it is in seconds then dataset timespan will be (e-s)/(3600*24*365) = 1.0821 years which seems reasonable."
   ]
  },
  {
   "cell_type": "code",
   "execution_count": 19,
   "metadata": {},
   "outputs": [
    {
     "name": "stdout",
     "output_type": "stream",
     "text": [
      "0   2017-12-02 00:01:46\n",
      "1   2017-12-02 00:02:15\n",
      "2   2017-12-02 00:02:29\n",
      "3   2017-12-02 00:02:35\n",
      "4   2017-12-02 00:03:40\n",
      "Name: TransactionDT, dtype: datetime64[ns]\n",
      "506686   2018-12-31 23:57:41\n",
      "506687   2018-12-31 23:57:49\n",
      "506688   2018-12-31 23:57:59\n",
      "506689   2018-12-31 23:58:46\n",
      "506690   2018-12-31 23:58:57\n",
      "Name: TransactionDT, dtype: datetime64[ns]\n"
     ]
    }
   ],
   "source": [
    "import datetime\n",
    "START_DATE = '2017-12-01'\n",
    "# Preprocess date column\n",
    "startdate = datetime.datetime.strptime(START_DATE, '%Y-%m-%d')\n",
    "new_time = new_df['TransactionDT'].apply(lambda x: (startdate + datetime.timedelta(seconds = x)))\n",
    "print(new_time.head())\n",
    "print(new_time.tail())"
   ]
  },
  {
   "cell_type": "code",
   "execution_count": 20,
   "metadata": {},
   "outputs": [],
   "source": [
    "time_df=pd.DataFrame()\n",
    "time_df['time']=new_time\n",
    "time_df['month'] = time_df['time'].apply(lambda x: x.month)\n",
    "time_df['day'] = time_df['time'].apply(lambda x: x.day)\n",
    "time_df['weekday'] = time_df['time'].apply(lambda x: x.weekday()+1)"
   ]
  },
  {
   "cell_type": "code",
   "execution_count": 21,
   "metadata": {},
   "outputs": [],
   "source": [
    "time_df['hour'] = time_df['time'].apply(lambda x: x.hour)"
   ]
  },
  {
   "cell_type": "code",
   "execution_count": 22,
   "metadata": {},
   "outputs": [],
   "source": [
    "n=len(df)\n",
    "df['time']=time_df['time'][:n]\n",
    "df['month']=time_df['month'][:n]\n",
    "df['day']=time_df['day'][:n]\n",
    "df['weekday']=time_df['weekday'][:n]\n",
    "df['hour']=time_df['hour'][:n]"
   ]
  },
  {
   "cell_type": "code",
   "execution_count": 22,
   "metadata": {},
   "outputs": [],
   "source": [
    "time_df['is_weekend']=time_df['weekday'].apply (lambda x: ((x==6)|(x==7))*1) #use x*1 to convert T/F to 1/0"
   ]
  },
  {
   "cell_type": "code",
   "execution_count": 200,
   "metadata": {},
   "outputs": [],
   "source": [
    "df['is_december'] = df.month\n",
    "df['is_december'] = (df['is_december']==12).astype(np.int8)"
   ]
  },
  {
   "cell_type": "code",
   "execution_count": 25,
   "metadata": {},
   "outputs": [],
   "source": [
    "n=len(df)\n",
    "fraud_index=np.where(df.isFraud==1)\n",
    "nonfraud_index=np.where(df.isFraud==0)"
   ]
  },
  {
   "cell_type": "code",
   "execution_count": 169,
   "metadata": {},
   "outputs": [],
   "source": [
    "import holidays\n",
    "dates_range = pd.date_range(start='2017-10-01', end='2019-01-01')\n",
    "us_holidays =holidays.US(years=[2017,2018])\n",
    "df['is_holiday']=(df['time'].dt.date.astype('datetime64').isin(us_holidays)).astype(np.int8)"
   ]
  },
  {
   "cell_type": "code",
   "execution_count": 199,
   "metadata": {},
   "outputs": [
    {
     "data": {
      "text/plain": [
       "{datetime.date(2017, 1, 1): \"New Year's Day\",\n",
       " datetime.date(2017, 1, 2): \"New Year's Day (Observed)\",\n",
       " datetime.date(2017, 1, 16): 'Martin Luther King Jr. Day',\n",
       " datetime.date(2017, 2, 20): \"Washington's Birthday\",\n",
       " datetime.date(2017, 5, 29): 'Memorial Day',\n",
       " datetime.date(2017, 7, 4): 'Independence Day',\n",
       " datetime.date(2017, 9, 4): 'Labor Day',\n",
       " datetime.date(2017, 10, 9): 'Columbus Day',\n",
       " datetime.date(2017, 11, 11): 'Veterans Day',\n",
       " datetime.date(2017, 11, 10): 'Veterans Day (Observed)',\n",
       " datetime.date(2017, 11, 23): 'Thanksgiving',\n",
       " datetime.date(2017, 12, 25): 'Christmas Day',\n",
       " datetime.date(2018, 1, 1): \"New Year's Day\",\n",
       " datetime.date(2018, 1, 15): 'Martin Luther King Jr. Day',\n",
       " datetime.date(2018, 2, 19): \"Washington's Birthday\",\n",
       " datetime.date(2018, 5, 28): 'Memorial Day',\n",
       " datetime.date(2018, 7, 4): 'Independence Day',\n",
       " datetime.date(2018, 9, 3): 'Labor Day',\n",
       " datetime.date(2018, 10, 8): 'Columbus Day',\n",
       " datetime.date(2018, 11, 11): 'Veterans Day',\n",
       " datetime.date(2018, 11, 12): 'Veterans Day (Observed)',\n",
       " datetime.date(2018, 11, 22): 'Thanksgiving',\n",
       " datetime.date(2018, 12, 25): 'Christmas Day',\n",
       " datetime.date(1970, 1, 1): \"New Year's Day\",\n",
       " datetime.date(1970, 2, 22): \"Washington's Birthday\",\n",
       " datetime.date(1970, 5, 30): 'Memorial Day',\n",
       " datetime.date(1970, 7, 4): 'Independence Day',\n",
       " datetime.date(1970, 7, 3): 'Independence Day (Observed)',\n",
       " datetime.date(1970, 9, 7): 'Labor Day',\n",
       " datetime.date(1970, 10, 12): 'Columbus Day',\n",
       " datetime.date(1970, 11, 11): 'Veterans Day',\n",
       " datetime.date(1970, 11, 26): 'Thanksgiving',\n",
       " datetime.date(1970, 12, 25): 'Christmas Day',\n",
       " datetime.date(1969, 1, 1): \"New Year's Day\",\n",
       " datetime.date(1969, 2, 22): \"Washington's Birthday\",\n",
       " datetime.date(1969, 5, 30): 'Memorial Day',\n",
       " datetime.date(1969, 7, 4): 'Independence Day',\n",
       " datetime.date(1969, 9, 1): 'Labor Day',\n",
       " datetime.date(1969, 10, 12): 'Columbus Day',\n",
       " datetime.date(1969, 11, 11): 'Veterans Day',\n",
       " datetime.date(1969, 11, 27): 'Thanksgiving',\n",
       " datetime.date(1969, 12, 25): 'Christmas Day'}"
      ]
     },
     "execution_count": 199,
     "metadata": {},
     "output_type": "execute_result"
    }
   ],
   "source": [
    "us_holidays"
   ]
  },
  {
   "cell_type": "code",
   "execution_count": 193,
   "metadata": {},
   "outputs": [
    {
     "name": "stdout",
     "output_type": "stream",
     "text": [
      "Holiday proportion of fraud dates: 0.023181532207327108\n",
      "Holiday proportion of non-fraud dates: 0.026567136417156686\n"
     ]
    }
   ],
   "source": [
    "t1=np.sum(df.loc[fraud_index]['is_holiday'])/len(list(fraud_index)[0])\n",
    "t2=np.sum(df.loc[nonfraud_index]['is_holiday'])/len(list(nonfraud_index)[0])\n",
    "print('Holiday proportion of fraud dates:',t1)\n",
    "print('Holiday proportion of non-fraud dates:',t2)"
   ]
  },
  {
   "cell_type": "code",
   "execution_count": 201,
   "metadata": {},
   "outputs": [
    {
     "name": "stdout",
     "output_type": "stream",
     "text": [
      "December proportion of fraud dates: 0.16459371824033298\n",
      "December proportion of non-fraud dates: 0.22976537042203843\n"
     ]
    }
   ],
   "source": [
    "t1=np.sum(df.loc[fraud_index]['is_december'])/len(list(fraud_index)[0])\n",
    "t2=np.sum(df.loc[nonfraud_index]['is_december'])/len(list(nonfraud_index)[0])\n",
    "print('December proportion of fraud dates:',t1)\n",
    "print('December proportion of non-fraud dates:',t2)"
   ]
  },
  {
   "cell_type": "markdown",
   "metadata": {},
   "source": [
    "Holiday&December may not be an important feature of fraud transactions..."
   ]
  },
  {
   "cell_type": "code",
   "execution_count": 26,
   "metadata": {},
   "outputs": [
    {
     "data": {
      "image/png": "[encoded data removed]",
      "text/plain": [
       "<Figure size 720x444.96 with 4 Axes>"
      ]
     },
     "metadata": {
      "needs_background": "light"
     },
     "output_type": "display_data"
    }
   ],
   "source": [
    "import seaborn as sns\n",
    "fig=plt.figure(figsize=(10,6.18))\n",
    "ax1=fig.add_subplot(2,2,1)\n",
    "sns.countplot(x='weekday', data=df,hue='isFraud')\n",
    "ax1.set_title('Distribution of weekdays')\n",
    "ax1.set_xticks(np.arange(7))\n",
    "ax1.set_xticklabels(('Mon.','Tue.','Wed.','Thur.','Fri.','Sat.','Sun.'))\n",
    "\n",
    "ax2=fig.add_subplot(2,2,2)\n",
    "temp1=np.array(time_df['weekday'])[fraud_index]\n",
    "sns.countplot(temp1)\n",
    "ax2.set_title('Distribution of weekdays for Fraud transactions')\n",
    "ax2.set_xticks(np.arange(7))\n",
    "ax2.set_xticklabels(['Mon.','Tue.','Wed.','Thur.','Fri.','Sat.','Sun.'])\n",
    "\n",
    "ax3=fig.add_subplot(2,2,3)\n",
    "sns.countplot(x='hour', data=df,hue='isFraud')\n",
    "ax3.set_title('Distribution of hour')\n",
    "ax3.set_xticks(np.arange(0,24,6))\n",
    "ax3.set_xticklabels(['','6am','12pm','6pm'])\n",
    "\n",
    "ax4=fig.add_subplot(2,2,4)\n",
    "temp1=np.array(time_df['hour'])[fraud_index]\n",
    "sns.countplot(temp1)\n",
    "ax4.set_title('Distribution of hours for Fraud transactions')\n",
    "#ax4.set_xticks(np.arange(24))\n",
    "#ax4.set_xticklabels(['Mon.','Tue.','Wed.','Thur.','Fri.','Sat.','Sun.'])\n",
    "\n",
    "plt.tight_layout()\n",
    "plt.show()\n"
   ]
  },
  {
   "cell_type": "code",
   "execution_count": 27,
   "metadata": {},
   "outputs": [],
   "source": [
    "a=df['hour'].value_counts()\n",
    "b=pd.Series(temp1).value_counts()\n",
    "c=[0]*24\n",
    "for i in range(24):\n",
    "    c[i]=b[i]/a[i]"
   ]
  },
  {
   "cell_type": "markdown",
   "metadata": {},
   "source": [
    "# Plot hour-based fraud proportion of all transactions"
   ]
  },
  {
   "cell_type": "code",
   "execution_count": 28,
   "metadata": {},
   "outputs": [
    {
     "data": {
      "image/png": "[encoded data removed]",
      "text/plain": [
       "<Figure size 720x444.96 with 1 Axes>"
      ]
     },
     "metadata": {
      "needs_background": "light"
     },
     "output_type": "display_data"
    }
   ],
   "source": [
    "plt.figure(figsize=(10,6.18))\n",
    "plt.plot(c,'+-')\n",
    "plt.xlabel('hour')\n",
    "plt.ylabel('Fraud out of all transactions')\n",
    "plt.title('Fraud Transaction Probability in one day')\n",
    "plt.axhline(y=sum(b)/sum(a),c=\"r\",label='average')\n",
    "plt.legend()\n",
    "plt.show()"
   ]
  },
  {
   "cell_type": "markdown",
   "metadata": {},
   "source": [
    "At 7am, fraud reaches peak! The peak is from am to 6am to 9am. After 10pm, when people start working, it goes back to normal.\n",
    "There can be many reasons for that. 1)Oversea criminals, based on some personal experience :) \n",
    "2)The bank staff didn't start working at that time, and people cannot be reminded when they sleep..."
   ]
  },
  {
   "cell_type": "code",
   "execution_count": 29,
   "metadata": {},
   "outputs": [
    {
     "data": {
      "image/png": "[encoded data removed]",
      "text/plain": [
       "<Figure size 360x222.48 with 1 Axes>"
      ]
     },
     "metadata": {
      "needs_background": "light"
     },
     "output_type": "display_data"
    }
   ],
   "source": [
    "a=df['weekday'].value_counts()\n",
    "b=pd.Series(np.array(time_df['weekday'])[fraud_index]).value_counts()\n",
    "c=[0]*7\n",
    "for i in range(7):\n",
    "    c[i]=b[i+1]/a[i+1]\n",
    "    \n",
    "plt.figure(figsize=(5,3.09))\n",
    "plt.plot(c,'+-')\n",
    "plt.xticks(np.arange(0,7),labels=['Mon.','Tue.','Wed.','Thur.','Fri.','Sat.','Sun.'])\n",
    "plt.ylabel('Fraud out of all transactions')\n",
    "plt.title('Fraud Transaction Probability in one week')\n",
    "plt.axhline(y=sum(b)/sum(a),c=\"r\",label='average')\n",
    "plt.legend()\n",
    "plt.show()"
   ]
  },
  {
   "cell_type": "markdown",
   "metadata": {},
   "source": [
    "From Fri. to Sun., number of fraud detetcion is increasing and it reaches bottom on Tue."
   ]
  },
  {
   "cell_type": "code",
   "execution_count": 159,
   "metadata": {},
   "outputs": [
    {
     "data": {
      "image/png": "[encoded data removed]",
      "text/plain": [
       "<Figure size 720x444.96 with 1 Axes>"
      ]
     },
     "metadata": {
      "needs_background": "light"
     },
     "output_type": "display_data"
    }
   ],
   "source": [
    "a=df['day'].value_counts()\n",
    "b=pd.Series(np.array(time_df['day'])[fraud_index]).value_counts()\n",
    "c=[0]*31\n",
    "for i in range(31):\n",
    "    c[i]=b[i+1]/a[i+1]\n",
    "    \n",
    "plt.figure(figsize=(10,6.18))\n",
    "plt.plot(c,'+-')\n",
    "plt.xticks(np.arange(0,31),labels=list(range(1,32)))\n",
    "plt.ylabel('Fraud out of all transactions')\n",
    "plt.title('Fraud Transaction Probability in one month')\n",
    "plt.axhline(y=sum(b)/sum(a),c=\"r\",label='average')\n",
    "plt.legend()\n",
    "plt.show()"
   ]
  },
  {
   "cell_type": "markdown",
   "metadata": {},
   "source": [
    "29th,31st,1st are more likely to be fraud...why?"
   ]
  },
  {
   "cell_type": "markdown",
   "metadata": {},
   "source": [
    "Overall, it seems fraud is more likely to happen out of normal working time.\n",
    "Maybe it's part-time criminals hehe"
   ]
  },
  {
   "cell_type": "code",
   "execution_count": 35,
   "metadata": {},
   "outputs": [],
   "source": [
    "temp=df[['month','hour','day','weekday','D2','D3','D5','D4','D10','D11','D15']] \n",
    "cor1=temp.corr()"
   ]
  },
  {
   "cell_type": "code",
   "execution_count": 40,
   "metadata": {},
   "outputs": [
    {
     "data": {
      "text/plain": [
       "Text(0.5, 1, 'correlation matrix of date-related features')"
      ]
     },
     "execution_count": 40,
     "metadata": {},
     "output_type": "execute_result"
    },
    {
     "data": {
      "image/png": "[encoded data removed]",
      "text/plain": [
       "<Figure size 504x360 with 2 Axes>"
      ]
     },
     "metadata": {
      "needs_background": "light"
     },
     "output_type": "display_data"
    }
   ],
   "source": [
    "fig=plt.figure(figsize=(7,5))\n",
    "sns.heatmap(cor1,cmap='Greens')\n",
    "plt.title('correlation matrix of date-related features',fontsize=15)"
   ]
  },
  {
   "cell_type": "markdown",
   "metadata": {},
   "source": [
    "D1 = 0 for most isFraud=1 transactions. Presumably this is due to a new card getting intercepted in the post, or a fraudster managing to request a card i somebody else's name.\n",
    "\n",
    "D2: first transaction on the card. this appears to be the same as D1, except D1 = 0 values have been replaced by NaN.\n",
    "\n",
    "D3: timedelta since the previous transaction for one card. As with D1 and D2, the this feature appears to count different cards separately.\n",
    "\n",
    "D4: timedelta since first transaction for all cards on the account. Using the example of a husband and wife each using their own card on a joint credit card account, this feature would not distinguish between which card was used.\n",
    "\n",
    "D5: timedelta since the previous transaction for all cards on the account."
   ]
  },
  {
   "cell_type": "code",
   "execution_count": 295,
   "metadata": {},
   "outputs": [],
   "source": [
    "df['D2']=total_df['D2']\n",
    "df['D1']=total_df['D1']"
   ]
  },
  {
   "cell_type": "code",
   "execution_count": 307,
   "metadata": {},
   "outputs": [],
   "source": [
    "#Calculate the number of transactions in natural hours and days\n",
    "df['day_count'] = df.groupby(df.time.dt.date)['TransactionID'].transform('count')\n",
    "df['hour_count'] = df.groupby(df.time.map(lambda x:str(x)[:13]))['TransactionID'].transform('count')"
   ]
  },
  {
   "cell_type": "markdown",
   "metadata": {},
   "source": [
    "# TransactionAMT is the second most important feature in priliminary model"
   ]
  },
  {
   "cell_type": "code",
   "execution_count": 146,
   "metadata": {},
   "outputs": [],
   "source": [
    "df['log_amt']=np.log(df['TransactionAmt'])\n",
    "#Use decimal part of transaction amt as a new feature\n",
    "df['decimal_amt']=df['TransactionAmt'].apply(lambda x: (x-int(x))*1000)"
   ]
  },
  {
   "cell_type": "code",
   "execution_count": 185,
   "metadata": {},
   "outputs": [
    {
     "data": {
      "image/png": "[encoded data removed]",
      "text/plain": [
       "<Figure size 360x222.48 with 1 Axes>"
      ]
     },
     "metadata": {
      "needs_background": "light"
     },
     "output_type": "display_data"
    }
   ],
   "source": [
    "fig=plt.figure(figsize=(5,3.09))\n",
    "#ax1=fig.add_subplot(1,2,1)\n",
    "temp=df.loc[fraud_index]['log_amt']\n",
    "sns.distplot(temp,  color='r', label='Fraud', hist=False, rug=False)\n",
    "#ax1.set_title('Distribution of log(Transaction Amount) in Fraud Transaction')\n",
    "#ax2=fig.add_subplot(1,2,2)\n",
    "temp=df.loc[nonfraud_index]['log_amt']\n",
    "sns.distplot(temp,color='b',label='Non-Fraud', hist=False, rug=False)\n",
    "#ax2.set_title('Distribution of log(Transaction Amount) in Non-Fraud Transaction')\n",
    "plt.tight_layout()\n",
    "plt.xlim(0,9)\n",
    "plt.xlabel('log(Transaction Amount)')\n",
    "plt.title('Distribution of Transaction Amount')\n",
    "plt.legend()\n",
    "plt.show()"
   ]
  },
  {
   "cell_type": "markdown",
   "metadata": {},
   "source": [
    "From the plot, fraud detection has a more normal-like shape, and it seems more frequent in small amount(e^3) or large amount(e^6)"
   ]
  },
  {
   "cell_type": "markdown",
   "metadata": {},
   "source": [
    "#  Card Features Dive"
   ]
  },
  {
   "cell_type": "code",
   "execution_count": 66,
   "metadata": {},
   "outputs": [],
   "source": [
    "by = ['card1', 'card2', 'card3', 'card4', 'card5', 'card6']\n",
    "grouped = df.groupby(by, as_index=False)['TransactionID'].count()"
   ]
  },
  {
   "cell_type": "code",
   "execution_count": 73,
   "metadata": {},
   "outputs": [
    {
     "data": {
      "text/plain": [
       "(13691, 7)"
      ]
     },
     "execution_count": 73,
     "metadata": {},
     "output_type": "execute_result"
    }
   ],
   "source": [
    "grouped.shape"
   ]
  },
  {
   "cell_type": "code",
   "execution_count": 250,
   "metadata": {},
   "outputs": [
    {
     "data": {
      "text/plain": [
       "(590540,)"
      ]
     },
     "execution_count": 250,
     "metadata": {},
     "output_type": "execute_result"
    }
   ],
   "source": [
    "temp.values.shape"
   ]
  },
  {
   "cell_type": "code",
   "execution_count": 296,
   "metadata": {},
   "outputs": [],
   "source": [
    "\n",
    "df['DT_D'] = ((df['time'].dt.year-2017)*365 + df['time'].dt.dayofyear).astype(np.int16)\n",
    "df['DT_W'] = (df['time'].dt.year-2017)*52 + df['time'].dt.weekofyear\n",
    "df['DT_M'] = (df['time'].dt.year-2017)*12 + df['time'].dt.month\n",
    "\n",
    "df['open_card'] = df.DT_D - total_df.D1\n",
    "df['first_tran'] = df.DT_D - total_df.D2\n"
   ]
  },
  {
   "cell_type": "code",
   "execution_count": 297,
   "metadata": {},
   "outputs": [],
   "source": [
    "#Use the six card features plus card-open-time(D1)&first-transaction-time(D2) as one card-id\n",
    "df['card_id'] = df.card1.astype(str) +' '+ df.card2.astype(str)+' '+ df.card3.astype(str)+' '+df.card4.astype(str)+' '+ df.card5.astype(str)+' '+ df.card6.astype(str) +' '+ df.open_card.astype(str)+' '+ df.first_tran.astype(str)"
   ]
  },
  {
   "cell_type": "code",
   "execution_count": 298,
   "metadata": {},
   "outputs": [
    {
     "data": {
      "text/plain": [
       "189905"
      ]
     },
     "execution_count": 298,
     "metadata": {},
     "output_type": "execute_result"
    }
   ],
   "source": [
    "df['card_id'].nunique()"
   ]
  },
  {
   "cell_type": "markdown",
   "metadata": {},
   "source": [
    "# Device Feature Clean"
   ]
  },
  {
   "cell_type": "code",
   "execution_count": 111,
   "metadata": {},
   "outputs": [],
   "source": [
    "def id_split(dataframe):\n",
    "    dataframe['device_name'] = dataframe['DeviceInfo'].str.split('/', expand=True)[0]\n",
    "    dataframe['device_version'] = dataframe['DeviceInfo'].str.split('/', expand=True)[1]\n",
    "\n",
    "    dataframe['OS_id_30'] = dataframe['id_30'].str.split(' ', expand=True)[0]\n",
    "\n",
    "    dataframe['browser_id_31'] = dataframe['id_31'].str.split(' ', expand=True)[0]\n",
    "    \n",
    "    dn=['Samsung','Motorola','LG','RV','Huawei','ZTE','Linux','Sony','HTC','Asus']\n",
    "    dataframe.loc[dataframe['device_name'].str.contains('SM', na=False), 'device_name'] = dn[0]\n",
    "    dataframe.loc[dataframe['device_name'].str.contains('SAMSUNG', na=False), 'device_name'] = dn[0]\n",
    "    dataframe.loc[dataframe['device_name'].str.contains('GT-', na=False), 'device_name'] = dn[0]\n",
    "    dataframe.loc[dataframe['device_name'].str.contains('Moto G', na=False), 'device_name'] = dn[1]\n",
    "    dataframe.loc[dataframe['device_name'].str.contains('Moto', na=False), 'device_name'] = dn[1]\n",
    "    dataframe.loc[dataframe['device_name'].str.contains('moto', na=False), 'device_name'] = dn[1]\n",
    "    dataframe.loc[dataframe['device_name'].str.contains('LG-', na=False), 'device_name'] = dn[2]\n",
    "    dataframe.loc[dataframe['device_name'].str.contains('rv:', na=False), 'device_name'] = dn[3]\n",
    "    dataframe.loc[dataframe['device_name'].str.contains('HUAWEI', na=False), 'device_name'] = dn[4]\n",
    "    dataframe.loc[dataframe['device_name'].str.contains('ALE-', na=False), 'device_name'] = dn[4]\n",
    "    dataframe.loc[dataframe['device_name'].str.contains('Blade', na=False), 'device_name'] = dn[5]\n",
    "    dataframe.loc[dataframe['device_name'].str.contains('BLADE', na=False), 'device_name'] = dn[5]\n",
    "    dataframe.loc[dataframe['device_name'].str.contains('Linux', na=False), 'device_name'] = dn[6]\n",
    "    dataframe.loc[dataframe['device_name'].str.contains('XT', na=False), 'device_name'] = dn[7]\n",
    "    dataframe.loc[dataframe['device_name'].str.contains('HTC', na=False), 'device_name'] = dn[8]\n",
    "    dataframe.loc[dataframe['device_name'].str.contains('ASUS', na=False), 'device_name'] = dn[9]\n",
    "    dataframe['device_name'].apply(lambda x: \"Others\" if (type(x)=='str') and (x not in dn) else x)\n",
    "    \n",
    "    return dataframe,id_list\n"
   ]
  },
  {
   "cell_type": "code",
   "execution_count": 123,
   "metadata": {},
   "outputs": [],
   "source": [
    "temp=id_split(total_df)"
   ]
  },
  {
   "cell_type": "code",
   "execution_count": 124,
   "metadata": {},
   "outputs": [],
   "source": [
    "df['device_name']=temp['device_name']\n",
    "df['device_version']=temp['device_version']\n",
    "df['OS_id_30']=temp['OS_id_30']\n",
    "df['browser_id_31']=temp['browser_id_31']\n",
    "df['device_version']=temp['device_version']\n",
    "df['device_version']=temp['device_version']"
   ]
  },
  {
   "cell_type": "code",
   "execution_count": 270,
   "metadata": {},
   "outputs": [],
   "source": [
    "#Identify a device using id_30, id_31, id_32, id_33, DeviceType, DeviceInfo\n",
    "\n",
    "df['device_id'] = total_df.apply(lambda x: str(x['id_30'])+str(x['id_31'])+str(x['id_32'])+str(x['id_33'])+str( x['DeviceType'])+ str(x['DeviceInfo']),\n",
    "                                 axis=0)"
   ]
  },
  {
   "cell_type": "code",
   "execution_count": 271,
   "metadata": {},
   "outputs": [
    {
     "data": {
      "text/plain": [
       "9815"
      ]
     },
     "execution_count": 271,
     "metadata": {},
     "output_type": "execute_result"
    }
   ],
   "source": [
    "df['device_id'].nunique()"
   ]
  },
  {
   "cell_type": "code",
   "execution_count": 273,
   "metadata": {},
   "outputs": [
    {
     "data": {
      "text/plain": [
       "nannannannannannan                                            449680\n",
       "nanchrome 63.0nannandesktopWindows                              6351\n",
       "nanmobile safari genericnannanmobilenan                         4961\n",
       "nanmobile safari 11.0nannanmobilenan                            3244\n",
       "nanchrome 63.0nannandesktopnan                                  3136\n",
       "                                                               ...  \n",
       "nanchrome 63.0 for androidnannanmobileU                            1\n",
       "nanchrome 49.0 for androidnannanmobileLG-H420 Build/LRX21Y         1\n",
       "nanGeneric/Androidnannanmobilerv:60.0                              1\n",
       "nanchrome 63.0 for androidnannanmobileSAMSUNG-SGH-I337             1\n",
       "Windows 7seamonkey24.01440x900desktoprv:51.0                       1\n",
       "Name: device_id, Length: 9815, dtype: int64"
      ]
     },
     "execution_count": 273,
     "metadata": {},
     "output_type": "execute_result"
    }
   ],
   "source": [
    "df['device_id'].value_counts()"
   ]
  },
  {
   "cell_type": "code",
   "execution_count": 303,
   "metadata": {},
   "outputs": [],
   "source": [
    "#Number of devices with the same user\n",
    "concat_df = df[['card_id','device_id']]\n",
    "tmp = concat_df.groupby('card_id')['device_id'].agg(['nunique'])\n",
    "tmp_dic=tmp.to_dict()['nunique']"
   ]
  },
  {
   "cell_type": "code",
   "execution_count": 304,
   "metadata": {},
   "outputs": [],
   "source": [
    "df['card_id_number_of_device'] = df.card_id.map(tmp_dic)"
   ]
  },
  {
   "cell_type": "code",
   "execution_count": 305,
   "metadata": {},
   "outputs": [
    {
     "data": {
      "text/plain": [
       "109"
      ]
     },
     "execution_count": 305,
     "metadata": {},
     "output_type": "execute_result"
    }
   ],
   "source": [
    "max(df['card_id_number_of_device'])#one card use at most 109 device......"
   ]
  },
  {
   "cell_type": "code",
   "execution_count": 291,
   "metadata": {},
   "outputs": [
    {
     "data": {
      "text/plain": [
       "nunique    109\n",
       "Name: 6019 583.0 150.0 visa 226.0 credit 360.0 nan, dtype: int64"
      ]
     },
     "execution_count": 291,
     "metadata": {},
     "output_type": "execute_result"
    }
   ],
   "source": [
    "tmp.iloc[144242,]"
   ]
  },
  {
   "cell_type": "markdown",
   "metadata": {},
   "source": [
    "# Product CD, big difference in distribution"
   ]
  },
  {
   "cell_type": "code",
   "execution_count": 134,
   "metadata": {},
   "outputs": [],
   "source": [
    "s1=total_df.groupby(['ProductCD'], as_index=False)['isFraud'].agg(['sum'])\n",
    "s2=total_df.ProductCD.value_counts()"
   ]
  },
  {
   "cell_type": "code",
   "execution_count": 142,
   "metadata": {},
   "outputs": [
    {
     "name": "stdout",
     "output_type": "stream",
     "text": [
      "Fraud rate when buying different product\n",
      "C    0.116873\n",
      "H    0.047662\n",
      "R    0.037826\n",
      "S    0.058996\n",
      "W    0.020399\n",
      "dtype: float64\n"
     ]
    }
   ],
   "source": [
    "print('Fraud rate when buying different product')\n",
    "s=s1['sum']/s2\n",
    "print(s)"
   ]
  },
  {
   "cell_type": "markdown",
   "metadata": {},
   "source": [
    "Product Type C shows a high risk of fraud."
   ]
  },
  {
   "cell_type": "code",
   "execution_count": 390,
   "metadata": {},
   "outputs": [],
   "source": [
    "temp_dic=df.groupby(['ProductCD'], as_index=False)['log_amt'].agg(['mean'])['mean'].to_dict()"
   ]
  },
  {
   "cell_type": "code",
   "execution_count": 392,
   "metadata": {},
   "outputs": [],
   "source": [
    "df['ProductCD_amt']=df['ProductCD'].apply(lambda x: temp_dic[x])"
   ]
  },
  {
   "cell_type": "markdown",
   "metadata": {},
   "source": [
    "# P_domain feature clean"
   ]
  },
  {
   "cell_type": "code",
   "execution_count": 204,
   "metadata": {},
   "outputs": [],
   "source": [
    "emails = {'gmail': 'google', 'att.net': 'att', 'twc.com': 'spectrum', 'scranton.edu': 'other', 'optonline.net': 'other', 'hotmail.co.uk': 'microsoft', 'comcast.net': 'other', 'yahoo.com.mx': 'yahoo', 'yahoo.fr': 'yahoo', 'yahoo.es': 'yahoo', 'charter.net': 'spectrum', 'live.com': 'microsoft', 'aim.com': 'aol', 'hotmail.de': 'microsoft', 'centurylink.net': 'centurylink', 'gmail.com': 'google', 'me.com': 'apple', 'earthlink.net': 'other', 'gmx.de': 'other', 'web.de': 'other', 'cfl.rr.com': 'other', 'hotmail.com': 'microsoft', 'protonmail.com': 'other', 'hotmail.fr': 'microsoft', 'windstream.net': 'other', 'outlook.es': 'microsoft', 'yahoo.co.jp': 'yahoo', 'yahoo.de': 'yahoo', 'servicios-ta.com': 'other', 'netzero.net': 'other', 'suddenlink.net': 'other', 'roadrunner.com': 'other', 'sc.rr.com': 'other', 'live.fr': 'microsoft', 'verizon.net': 'yahoo', 'msn.com': 'microsoft', 'q.com': 'centurylink', 'prodigy.net.mx': 'att', 'frontier.com': 'yahoo', 'anonymous.com': 'other', 'rocketmail.com': 'yahoo', 'sbcglobal.net': 'att', 'frontiernet.net': 'yahoo', 'ymail.com': 'yahoo', 'outlook.com': 'microsoft', 'mail.com': 'other', 'bellsouth.net': 'other', 'embarqmail.com': 'centurylink', 'cableone.net': 'other', 'hotmail.es': 'microsoft', 'mac.com': 'apple', 'yahoo.co.uk': 'yahoo', 'netzero.com': 'other', 'yahoo.com': 'yahoo', 'live.com.mx': 'microsoft', 'ptd.net': 'other', 'cox.net': 'other', 'aol.com': 'aol', 'juno.com': 'other', 'icloud.com': 'apple','uknown':'uknown'}\n",
    "\n",
    "df['P_emaildomain'] = df['P_emaildomain'].fillna('uknown')\n",
    "df['P_emaildomain_bin'] = df['P_emaildomain'].map(emails)\n",
    "df['P_emaildomain_suffix']=df['P_emaildomain'].apply(lambda x: str(x).split('.')[-1])\n",
    "df['P_emaildomain_prefix']=df['P_emaildomain'].apply(lambda x: str(x).split('.')[0])\n",
    "\n"
   ]
  },
  {
   "cell_type": "code",
   "execution_count": 205,
   "metadata": {},
   "outputs": [
    {
     "data": {
      "text/html": [
       "<div>\n",
       "<style scoped>\n",
       "    .dataframe tbody tr th:only-of-type {\n",
       "        vertical-align: middle;\n",
       "    }\n",
       "\n",
       "    .dataframe tbody tr th {\n",
       "        vertical-align: top;\n",
       "    }\n",
       "\n",
       "    .dataframe thead th {\n",
       "        text-align: right;\n",
       "    }\n",
       "</style>\n",
       "<table border=\"1\" class=\"dataframe\">\n",
       "  <thead>\n",
       "    <tr style=\"text-align: right;\">\n",
       "      <th></th>\n",
       "      <th>TransactionID</th>\n",
       "      <th>isFraud</th>\n",
       "      <th>TransactionDT</th>\n",
       "      <th>TransactionAmt</th>\n",
       "      <th>ProductCD</th>\n",
       "      <th>card1</th>\n",
       "      <th>card2</th>\n",
       "      <th>card3</th>\n",
       "      <th>card4</th>\n",
       "      <th>card5</th>\n",
       "      <th>...</th>\n",
       "      <th>device_version</th>\n",
       "      <th>OS_id_30</th>\n",
       "      <th>browser_id_31</th>\n",
       "      <th>log_amt</th>\n",
       "      <th>decimal_amt</th>\n",
       "      <th>is_holiday</th>\n",
       "      <th>is_december</th>\n",
       "      <th>P_emaildomain_bin</th>\n",
       "      <th>P_emaildomain_suffix</th>\n",
       "      <th>P_emaildomain_prefix</th>\n",
       "    </tr>\n",
       "  </thead>\n",
       "  <tbody>\n",
       "    <tr>\n",
       "      <th>0</th>\n",
       "      <td>2987004</td>\n",
       "      <td>0</td>\n",
       "      <td>86506</td>\n",
       "      <td>50.000</td>\n",
       "      <td>H</td>\n",
       "      <td>4497</td>\n",
       "      <td>514.0</td>\n",
       "      <td>150.0</td>\n",
       "      <td>mastercard</td>\n",
       "      <td>102.0</td>\n",
       "      <td>...</td>\n",
       "      <td>NRD90M</td>\n",
       "      <td>Android</td>\n",
       "      <td>samsung</td>\n",
       "      <td>3.912023</td>\n",
       "      <td>0.0</td>\n",
       "      <td>0</td>\n",
       "      <td>1</td>\n",
       "      <td>google</td>\n",
       "      <td>com</td>\n",
       "      <td>gmail</td>\n",
       "    </tr>\n",
       "    <tr>\n",
       "      <th>1</th>\n",
       "      <td>2987008</td>\n",
       "      <td>0</td>\n",
       "      <td>86535</td>\n",
       "      <td>15.000</td>\n",
       "      <td>H</td>\n",
       "      <td>2803</td>\n",
       "      <td>100.0</td>\n",
       "      <td>150.0</td>\n",
       "      <td>visa</td>\n",
       "      <td>226.0</td>\n",
       "      <td>...</td>\n",
       "      <td>None</td>\n",
       "      <td>iOS</td>\n",
       "      <td>mobile</td>\n",
       "      <td>2.708050</td>\n",
       "      <td>0.0</td>\n",
       "      <td>0</td>\n",
       "      <td>1</td>\n",
       "      <td>other</td>\n",
       "      <td>com</td>\n",
       "      <td>anonymous</td>\n",
       "    </tr>\n",
       "    <tr>\n",
       "      <th>2</th>\n",
       "      <td>2987010</td>\n",
       "      <td>0</td>\n",
       "      <td>86549</td>\n",
       "      <td>75.887</td>\n",
       "      <td>C</td>\n",
       "      <td>16496</td>\n",
       "      <td>352.0</td>\n",
       "      <td>117.0</td>\n",
       "      <td>mastercard</td>\n",
       "      <td>134.0</td>\n",
       "      <td>...</td>\n",
       "      <td>None</td>\n",
       "      <td>NaN</td>\n",
       "      <td>chrome</td>\n",
       "      <td>4.329245</td>\n",
       "      <td>887.0</td>\n",
       "      <td>0</td>\n",
       "      <td>1</td>\n",
       "      <td>google</td>\n",
       "      <td>com</td>\n",
       "      <td>gmail</td>\n",
       "    </tr>\n",
       "    <tr>\n",
       "      <th>3</th>\n",
       "      <td>2987011</td>\n",
       "      <td>0</td>\n",
       "      <td>86555</td>\n",
       "      <td>16.495</td>\n",
       "      <td>C</td>\n",
       "      <td>4461</td>\n",
       "      <td>375.0</td>\n",
       "      <td>185.0</td>\n",
       "      <td>mastercard</td>\n",
       "      <td>224.0</td>\n",
       "      <td>...</td>\n",
       "      <td>NaN</td>\n",
       "      <td>NaN</td>\n",
       "      <td>chrome</td>\n",
       "      <td>2.803057</td>\n",
       "      <td>495.0</td>\n",
       "      <td>0</td>\n",
       "      <td>1</td>\n",
       "      <td>microsoft</td>\n",
       "      <td>com</td>\n",
       "      <td>hotmail</td>\n",
       "    </tr>\n",
       "    <tr>\n",
       "      <th>4</th>\n",
       "      <td>2987016</td>\n",
       "      <td>0</td>\n",
       "      <td>86620</td>\n",
       "      <td>30.000</td>\n",
       "      <td>H</td>\n",
       "      <td>1790</td>\n",
       "      <td>555.0</td>\n",
       "      <td>150.0</td>\n",
       "      <td>visa</td>\n",
       "      <td>226.0</td>\n",
       "      <td>...</td>\n",
       "      <td>None</td>\n",
       "      <td>Mac</td>\n",
       "      <td>chrome</td>\n",
       "      <td>3.401197</td>\n",
       "      <td>0.0</td>\n",
       "      <td>0</td>\n",
       "      <td>1</td>\n",
       "      <td>aol</td>\n",
       "      <td>com</td>\n",
       "      <td>aol</td>\n",
       "    </tr>\n",
       "  </tbody>\n",
       "</table>\n",
       "<p>5 rows × 182 columns</p>\n",
       "</div>"
      ],
      "text/plain": [
       "   TransactionID  isFraud  TransactionDT  TransactionAmt ProductCD  card1  \\\n",
       "0        2987004        0          86506          50.000         H   4497   \n",
       "1        2987008        0          86535          15.000         H   2803   \n",
       "2        2987010        0          86549          75.887         C  16496   \n",
       "3        2987011        0          86555          16.495         C   4461   \n",
       "4        2987016        0          86620          30.000         H   1790   \n",
       "\n",
       "   card2  card3       card4  card5  ... device_version  OS_id_30  \\\n",
       "0  514.0  150.0  mastercard  102.0  ...         NRD90M   Android   \n",
       "1  100.0  150.0        visa  226.0  ...           None       iOS   \n",
       "2  352.0  117.0  mastercard  134.0  ...           None       NaN   \n",
       "3  375.0  185.0  mastercard  224.0  ...            NaN       NaN   \n",
       "4  555.0  150.0        visa  226.0  ...           None       Mac   \n",
       "\n",
       "   browser_id_31   log_amt decimal_amt  is_holiday  is_december  \\\n",
       "0        samsung  3.912023         0.0           0            1   \n",
       "1         mobile  2.708050         0.0           0            1   \n",
       "2         chrome  4.329245       887.0           0            1   \n",
       "3         chrome  2.803057       495.0           0            1   \n",
       "4         chrome  3.401197         0.0           0            1   \n",
       "\n",
       "   P_emaildomain_bin  P_emaildomain_suffix  P_emaildomain_prefix  \n",
       "0             google                   com                 gmail  \n",
       "1              other                   com             anonymous  \n",
       "2             google                   com                 gmail  \n",
       "3          microsoft                   com               hotmail  \n",
       "4                aol                   com                   aol  \n",
       "\n",
       "[5 rows x 182 columns]"
      ]
     },
     "execution_count": 205,
     "metadata": {},
     "output_type": "execute_result"
    }
   ],
   "source": [
    "df.head()"
   ]
  },
  {
   "cell_type": "markdown",
   "metadata": {},
   "source": [
    "# V features reduce dimension"
   ]
  },
  {
   "cell_type": "code",
   "execution_count": 345,
   "metadata": {},
   "outputs": [],
   "source": [
    "dropV=drop[10:]\n",
    "v_cols = ['V'+str(i) for i in range(1,340)]\n",
    "v_remain=[elem for elem in v_cols if elem in list(df) ] "
   ]
  },
  {
   "cell_type": "code",
   "execution_count": 347,
   "metadata": {},
   "outputs": [],
   "source": [
    "#Dealing with V cols\n",
    "\n",
    "from sklearn.preprocessing import StandardScaler\n",
    "for col in test_group:\n",
    "    sc = StandardScaler()\n",
    "    sc.fit(df[[col]].fillna(0))\n",
    "    df[col] = sc.transform(df[[col]].fillna(0))\n",
    "    df[col] = sc.transform(df[[col]].fillna(0))\n",
    "    \n",
    "\n",
    "\n"
   ]
  },
  {
   "cell_type": "code",
   "execution_count": 367,
   "metadata": {},
   "outputs": [
    {
     "name": "stdout",
     "output_type": "stream",
     "text": [
      "130 3\n",
      "[0.79755425 0.07329905 0.0578448 ]\n"
     ]
    }
   ],
   "source": [
    "from sklearn.decomposition import PCA\n",
    "#PCA\n",
    "pca = PCA(random_state=2020,n_components=3)\n",
    "pca.fit(df[test_group])\n",
    "print(len(test_group), pca.transform(df[test_group]).shape[-1])\n",
    "\n",
    "sc_variance =pca.explained_variance_ratio_\n",
    "print(sc_variance)\n"
   ]
  },
  {
   "cell_type": "code",
   "execution_count": 368,
   "metadata": {},
   "outputs": [],
   "source": [
    "temp=pca.transform(df[test_group])\n",
    "for i in range(temp.shape[1]):\n",
    "    df['V_pca_'+str(i)]=temp[:,i]"
   ]
  },
  {
   "cell_type": "code",
   "execution_count": 397,
   "metadata": {},
   "outputs": [],
   "source": [
    "df.drop(test_group,axis=1,inplace=True)"
   ]
  },
  {
   "cell_type": "code",
   "execution_count": 398,
   "metadata": {},
   "outputs": [
    {
     "data": {
      "text/plain": [
       "['TransactionID',\n",
       " 'isFraud',\n",
       " 'TransactionDT',\n",
       " 'TransactionAmt',\n",
       " 'ProductCD',\n",
       " 'card1',\n",
       " 'card2',\n",
       " 'card3',\n",
       " 'card4',\n",
       " 'card5',\n",
       " 'card6',\n",
       " 'addr1',\n",
       " 'addr2',\n",
       " 'dist1',\n",
       " 'P_emaildomain',\n",
       " 'C2',\n",
       " 'C3',\n",
       " 'C5',\n",
       " 'C9',\n",
       " 'C13',\n",
       " 'D3',\n",
       " 'D4',\n",
       " 'D5',\n",
       " 'D10',\n",
       " 'D11',\n",
       " 'D15',\n",
       " 'M1',\n",
       " 'M2',\n",
       " 'M3',\n",
       " 'M4',\n",
       " 'M5',\n",
       " 'M6',\n",
       " 'M7',\n",
       " 'M8',\n",
       " 'M9',\n",
       " 'time',\n",
       " 'month',\n",
       " 'day',\n",
       " 'weekday',\n",
       " 'hour',\n",
       " 'device_name',\n",
       " 'device_version',\n",
       " 'OS_id_30',\n",
       " 'browser_id_31',\n",
       " 'log_amt',\n",
       " 'decimal_amt',\n",
       " 'is_holiday',\n",
       " 'is_december',\n",
       " 'P_emaildomain_bin',\n",
       " 'P_emaildomain_suffix',\n",
       " 'P_emaildomain_prefix',\n",
       " 'card_id',\n",
       " 'open_card',\n",
       " 'first_tran',\n",
       " 'D1',\n",
       " 'DT_D',\n",
       " 'DT_W',\n",
       " 'DT_M',\n",
       " 'device_id',\n",
       " 'D2',\n",
       " 'card_id_number_of_device',\n",
       " 'day_count',\n",
       " 'hour_count',\n",
       " 'V_pca_0',\n",
       " 'V_pca_1',\n",
       " 'V_pca_2',\n",
       " 'ProductCD_amt']"
      ]
     },
     "execution_count": 398,
     "metadata": {},
     "output_type": "execute_result"
    }
   ],
   "source": [
    "list(df)"
   ]
  },
  {
   "cell_type": "markdown",
   "metadata": {},
   "source": [
    "# Categorical Encoding"
   ]
  },
  {
   "cell_type": "code",
   "execution_count": 403,
   "metadata": {},
   "outputs": [
    {
     "data": {
      "text/plain": [
       "Index(['ProductCD', 'card4', 'card6', 'P_emaildomain', 'M1', 'M2', 'M3', 'M4',\n",
       "       'M5', 'M6', 'M7', 'M8', 'M9', 'device_name', 'device_version',\n",
       "       'OS_id_30', 'browser_id_31', 'P_emaildomain_bin',\n",
       "       'P_emaildomain_suffix', 'P_emaildomain_prefix', 'card_id', 'device_id'],\n",
       "      dtype='object')"
      ]
     },
     "execution_count": 403,
     "metadata": {},
     "output_type": "execute_result"
    }
   ],
   "source": [
    "df.columns[np.where(df.dtypes=='object')]"
   ]
  },
  {
   "cell_type": "code",
   "execution_count": 592,
   "metadata": {},
   "outputs": [],
   "source": [
    "#encode by frequency, do not use target encode which may lead to overfit\n",
    "from category_encoders import TargetEncoder\n",
    "def ce(df,col):\n",
    "    n=df.shape[0]\n",
    "    for i in col:\n",
    "        encoder = TargetEncoder()\n",
    "        df[i+'_Encoded'] = encoder.fit_transform(df[i], df['isFraud'])\n",
    "    return df"
   ]
  },
  {
   "cell_type": "code",
   "execution_count": 593,
   "metadata": {},
   "outputs": [],
   "source": [
    "col=list(df.columns[np.where(df.dtypes=='object')])\n",
    "df=ce(df,col)"
   ]
  },
  {
   "cell_type": "code",
   "execution_count": 594,
   "metadata": {},
   "outputs": [
    {
     "data": {
      "text/html": [
       "<div>\n",
       "<style scoped>\n",
       "    .dataframe tbody tr th:only-of-type {\n",
       "        vertical-align: middle;\n",
       "    }\n",
       "\n",
       "    .dataframe tbody tr th {\n",
       "        vertical-align: top;\n",
       "    }\n",
       "\n",
       "    .dataframe thead th {\n",
       "        text-align: right;\n",
       "    }\n",
       "</style>\n",
       "<table border=\"1\" class=\"dataframe\">\n",
       "  <thead>\n",
       "    <tr style=\"text-align: right;\">\n",
       "      <th></th>\n",
       "      <th>ProductCD_Encoded</th>\n",
       "      <th>card4_Encoded</th>\n",
       "      <th>card6_Encoded</th>\n",
       "      <th>P_emaildomain_Encoded</th>\n",
       "      <th>M1_Encoded</th>\n",
       "      <th>M2_Encoded</th>\n",
       "      <th>M3_Encoded</th>\n",
       "      <th>M4_Encoded</th>\n",
       "      <th>M5_Encoded</th>\n",
       "      <th>M6_Encoded</th>\n",
       "      <th>...</th>\n",
       "      <th>M9_Encoded</th>\n",
       "      <th>device_name_Encoded</th>\n",
       "      <th>device_version_Encoded</th>\n",
       "      <th>OS_id_30_Encoded</th>\n",
       "      <th>browser_id_31_Encoded</th>\n",
       "      <th>P_emaildomain_bin_Encoded</th>\n",
       "      <th>P_emaildomain_suffix_Encoded</th>\n",
       "      <th>P_emaildomain_prefix_Encoded</th>\n",
       "      <th>card_id_Encoded</th>\n",
       "      <th>device_id_Encoded</th>\n",
       "    </tr>\n",
       "  </thead>\n",
       "  <tbody>\n",
       "    <tr>\n",
       "      <th>0</th>\n",
       "      <td>0.047662</td>\n",
       "      <td>0.034331</td>\n",
       "      <td>0.066785</td>\n",
       "      <td>0.043542</td>\n",
       "      <td>0.03499</td>\n",
       "      <td>0.03499</td>\n",
       "      <td>0.03499</td>\n",
       "      <td>0.034990</td>\n",
       "      <td>0.03499</td>\n",
       "      <td>0.03499</td>\n",
       "      <td>...</td>\n",
       "      <td>0.03499</td>\n",
       "      <td>0.115944</td>\n",
       "      <td>0.096141</td>\n",
       "      <td>0.085991</td>\n",
       "      <td>0.087084</td>\n",
       "      <td>0.043496</td>\n",
       "      <td>0.037005</td>\n",
       "      <td>0.043496</td>\n",
       "      <td>3.499001e-02</td>\n",
       "      <td>1.173390e-05</td>\n",
       "    </tr>\n",
       "    <tr>\n",
       "      <th>1</th>\n",
       "      <td>0.047662</td>\n",
       "      <td>0.034756</td>\n",
       "      <td>0.024263</td>\n",
       "      <td>0.023217</td>\n",
       "      <td>0.03499</td>\n",
       "      <td>0.03499</td>\n",
       "      <td>0.03499</td>\n",
       "      <td>0.034990</td>\n",
       "      <td>0.03499</td>\n",
       "      <td>0.03499</td>\n",
       "      <td>...</td>\n",
       "      <td>0.03499</td>\n",
       "      <td>0.062683</td>\n",
       "      <td>0.034990</td>\n",
       "      <td>0.062683</td>\n",
       "      <td>0.075514</td>\n",
       "      <td>0.025914</td>\n",
       "      <td>0.037005</td>\n",
       "      <td>0.023217</td>\n",
       "      <td>1.320920e-12</td>\n",
       "      <td>2.954755e-02</td>\n",
       "    </tr>\n",
       "    <tr>\n",
       "      <th>2</th>\n",
       "      <td>0.116873</td>\n",
       "      <td>0.034331</td>\n",
       "      <td>0.066785</td>\n",
       "      <td>0.043542</td>\n",
       "      <td>0.03499</td>\n",
       "      <td>0.03499</td>\n",
       "      <td>0.03499</td>\n",
       "      <td>0.036649</td>\n",
       "      <td>0.03499</td>\n",
       "      <td>0.03499</td>\n",
       "      <td>...</td>\n",
       "      <td>0.03499</td>\n",
       "      <td>0.065400</td>\n",
       "      <td>0.034990</td>\n",
       "      <td>0.034990</td>\n",
       "      <td>0.095952</td>\n",
       "      <td>0.043496</td>\n",
       "      <td>0.037005</td>\n",
       "      <td>0.043496</td>\n",
       "      <td>1.659432e-03</td>\n",
       "      <td>8.298172e-02</td>\n",
       "    </tr>\n",
       "    <tr>\n",
       "      <th>3</th>\n",
       "      <td>0.116873</td>\n",
       "      <td>0.034331</td>\n",
       "      <td>0.024263</td>\n",
       "      <td>0.052950</td>\n",
       "      <td>0.03499</td>\n",
       "      <td>0.03499</td>\n",
       "      <td>0.03499</td>\n",
       "      <td>0.036649</td>\n",
       "      <td>0.03499</td>\n",
       "      <td>0.03499</td>\n",
       "      <td>...</td>\n",
       "      <td>0.03499</td>\n",
       "      <td>0.034990</td>\n",
       "      <td>0.034990</td>\n",
       "      <td>0.034990</td>\n",
       "      <td>0.095952</td>\n",
       "      <td>0.053298</td>\n",
       "      <td>0.037005</td>\n",
       "      <td>0.052516</td>\n",
       "      <td>2.909517e-08</td>\n",
       "      <td>1.158690e-01</td>\n",
       "    </tr>\n",
       "    <tr>\n",
       "      <th>4</th>\n",
       "      <td>0.047662</td>\n",
       "      <td>0.034756</td>\n",
       "      <td>0.024263</td>\n",
       "      <td>0.021811</td>\n",
       "      <td>0.03499</td>\n",
       "      <td>0.03499</td>\n",
       "      <td>0.03499</td>\n",
       "      <td>0.034990</td>\n",
       "      <td>0.03499</td>\n",
       "      <td>0.03499</td>\n",
       "      <td>...</td>\n",
       "      <td>0.03499</td>\n",
       "      <td>0.022111</td>\n",
       "      <td>0.034990</td>\n",
       "      <td>0.021944</td>\n",
       "      <td>0.095952</td>\n",
       "      <td>0.022969</td>\n",
       "      <td>0.037005</td>\n",
       "      <td>0.021811</td>\n",
       "      <td>3.499001e-02</td>\n",
       "      <td>4.859413e-13</td>\n",
       "    </tr>\n",
       "  </tbody>\n",
       "</table>\n",
       "<p>5 rows × 22 columns</p>\n",
       "</div>"
      ],
      "text/plain": [
       "   ProductCD_Encoded  card4_Encoded  card6_Encoded  P_emaildomain_Encoded  \\\n",
       "0           0.047662       0.034331       0.066785               0.043542   \n",
       "1           0.047662       0.034756       0.024263               0.023217   \n",
       "2           0.116873       0.034331       0.066785               0.043542   \n",
       "3           0.116873       0.034331       0.024263               0.052950   \n",
       "4           0.047662       0.034756       0.024263               0.021811   \n",
       "\n",
       "   M1_Encoded  M2_Encoded  M3_Encoded  M4_Encoded  M5_Encoded  M6_Encoded  \\\n",
       "0     0.03499     0.03499     0.03499    0.034990     0.03499     0.03499   \n",
       "1     0.03499     0.03499     0.03499    0.034990     0.03499     0.03499   \n",
       "2     0.03499     0.03499     0.03499    0.036649     0.03499     0.03499   \n",
       "3     0.03499     0.03499     0.03499    0.036649     0.03499     0.03499   \n",
       "4     0.03499     0.03499     0.03499    0.034990     0.03499     0.03499   \n",
       "\n",
       "   ...  M9_Encoded  device_name_Encoded  device_version_Encoded  \\\n",
       "0  ...     0.03499             0.115944                0.096141   \n",
       "1  ...     0.03499             0.062683                0.034990   \n",
       "2  ...     0.03499             0.065400                0.034990   \n",
       "3  ...     0.03499             0.034990                0.034990   \n",
       "4  ...     0.03499             0.022111                0.034990   \n",
       "\n",
       "   OS_id_30_Encoded  browser_id_31_Encoded  P_emaildomain_bin_Encoded  \\\n",
       "0          0.085991               0.087084                   0.043496   \n",
       "1          0.062683               0.075514                   0.025914   \n",
       "2          0.034990               0.095952                   0.043496   \n",
       "3          0.034990               0.095952                   0.053298   \n",
       "4          0.021944               0.095952                   0.022969   \n",
       "\n",
       "   P_emaildomain_suffix_Encoded  P_emaildomain_prefix_Encoded  \\\n",
       "0                      0.037005                      0.043496   \n",
       "1                      0.037005                      0.023217   \n",
       "2                      0.037005                      0.043496   \n",
       "3                      0.037005                      0.052516   \n",
       "4                      0.037005                      0.021811   \n",
       "\n",
       "   card_id_Encoded  device_id_Encoded  \n",
       "0     3.499001e-02       1.173390e-05  \n",
       "1     1.320920e-12       2.954755e-02  \n",
       "2     1.659432e-03       8.298172e-02  \n",
       "3     2.909517e-08       1.158690e-01  \n",
       "4     3.499001e-02       4.859413e-13  \n",
       "\n",
       "[5 rows x 22 columns]"
      ]
     },
     "execution_count": 594,
     "metadata": {},
     "output_type": "execute_result"
    }
   ],
   "source": [
    "df.iloc[:5,-len(col):]"
   ]
  },
  {
   "cell_type": "code",
   "execution_count": 441,
   "metadata": {},
   "outputs": [],
   "source": [
    "b=df.nunique()\n",
    "#No only one unique value in every column"
   ]
  },
  {
   "cell_type": "code",
   "execution_count": 451,
   "metadata": {},
   "outputs": [
    {
     "data": {
      "text/plain": [
       "Index(['isFraud', 'M1', 'M2', 'M3', 'M5', 'M6', 'M7', 'M8', 'M9', 'is_holiday',\n",
       "       'is_december'],\n",
       "      dtype='object')"
      ]
     },
     "execution_count": 451,
     "metadata": {},
     "output_type": "execute_result"
    }
   ],
   "source": [
    "df.columns[b==2]#binary cols"
   ]
  },
  {
   "cell_type": "code",
   "execution_count": 464,
   "metadata": {},
   "outputs": [],
   "source": [
    "#From the distribution, these m features should be some new deatures implemented during the time span of the dataset\n",
    "m=['M1', 'M2', 'M3','M4' ,'M5', 'M6', 'M7', 'M8', 'M9']"
   ]
  },
  {
   "cell_type": "code",
   "execution_count": 479,
   "metadata": {},
   "outputs": [
    {
     "data": {
      "text/html": [
       "<div>\n",
       "<style scoped>\n",
       "    .dataframe tbody tr th:only-of-type {\n",
       "        vertical-align: middle;\n",
       "    }\n",
       "\n",
       "    .dataframe tbody tr th {\n",
       "        vertical-align: top;\n",
       "    }\n",
       "\n",
       "    .dataframe thead th {\n",
       "        text-align: right;\n",
       "    }\n",
       "</style>\n",
       "<table border=\"1\" class=\"dataframe\">\n",
       "  <thead>\n",
       "    <tr style=\"text-align: right;\">\n",
       "      <th></th>\n",
       "      <th>M1</th>\n",
       "      <th>M2</th>\n",
       "      <th>M3</th>\n",
       "      <th>M4</th>\n",
       "      <th>M5</th>\n",
       "      <th>M6</th>\n",
       "      <th>M7</th>\n",
       "      <th>M8</th>\n",
       "      <th>M9</th>\n",
       "    </tr>\n",
       "  </thead>\n",
       "  <tbody>\n",
       "    <tr>\n",
       "      <th>0</th>\n",
       "      <td>None</td>\n",
       "      <td>None</td>\n",
       "      <td>None</td>\n",
       "      <td>None</td>\n",
       "      <td>None</td>\n",
       "      <td>None</td>\n",
       "      <td>None</td>\n",
       "      <td>None</td>\n",
       "      <td>None</td>\n",
       "    </tr>\n",
       "    <tr>\n",
       "      <th>1</th>\n",
       "      <td>None</td>\n",
       "      <td>None</td>\n",
       "      <td>None</td>\n",
       "      <td>None</td>\n",
       "      <td>None</td>\n",
       "      <td>None</td>\n",
       "      <td>None</td>\n",
       "      <td>None</td>\n",
       "      <td>None</td>\n",
       "    </tr>\n",
       "    <tr>\n",
       "      <th>2</th>\n",
       "      <td>None</td>\n",
       "      <td>None</td>\n",
       "      <td>None</td>\n",
       "      <td>M0</td>\n",
       "      <td>None</td>\n",
       "      <td>None</td>\n",
       "      <td>None</td>\n",
       "      <td>None</td>\n",
       "      <td>None</td>\n",
       "    </tr>\n",
       "    <tr>\n",
       "      <th>3</th>\n",
       "      <td>None</td>\n",
       "      <td>None</td>\n",
       "      <td>None</td>\n",
       "      <td>M0</td>\n",
       "      <td>None</td>\n",
       "      <td>None</td>\n",
       "      <td>None</td>\n",
       "      <td>None</td>\n",
       "      <td>None</td>\n",
       "    </tr>\n",
       "    <tr>\n",
       "      <th>4</th>\n",
       "      <td>None</td>\n",
       "      <td>None</td>\n",
       "      <td>None</td>\n",
       "      <td>None</td>\n",
       "      <td>None</td>\n",
       "      <td>None</td>\n",
       "      <td>None</td>\n",
       "      <td>None</td>\n",
       "      <td>None</td>\n",
       "    </tr>\n",
       "  </tbody>\n",
       "</table>\n",
       "</div>"
      ],
      "text/plain": [
       "     M1    M2    M3    M4    M5    M6    M7    M8    M9\n",
       "0  None  None  None  None  None  None  None  None  None\n",
       "1  None  None  None  None  None  None  None  None  None\n",
       "2  None  None  None    M0  None  None  None  None  None\n",
       "3  None  None  None    M0  None  None  None  None  None\n",
       "4  None  None  None  None  None  None  None  None  None"
      ]
     },
     "execution_count": 479,
     "metadata": {},
     "output_type": "execute_result"
    }
   ],
   "source": [
    "df[m].head()"
   ]
  },
  {
   "cell_type": "code",
   "execution_count": 480,
   "metadata": {},
   "outputs": [
    {
     "data": {
      "text/html": [
       "<div>\n",
       "<style scoped>\n",
       "    .dataframe tbody tr th:only-of-type {\n",
       "        vertical-align: middle;\n",
       "    }\n",
       "\n",
       "    .dataframe tbody tr th {\n",
       "        vertical-align: top;\n",
       "    }\n",
       "\n",
       "    .dataframe thead th {\n",
       "        text-align: right;\n",
       "    }\n",
       "</style>\n",
       "<table border=\"1\" class=\"dataframe\">\n",
       "  <thead>\n",
       "    <tr style=\"text-align: right;\">\n",
       "      <th></th>\n",
       "      <th>M1</th>\n",
       "      <th>M2</th>\n",
       "      <th>M3</th>\n",
       "      <th>M4</th>\n",
       "      <th>M5</th>\n",
       "      <th>M6</th>\n",
       "      <th>M7</th>\n",
       "      <th>M8</th>\n",
       "      <th>M9</th>\n",
       "    </tr>\n",
       "  </thead>\n",
       "  <tbody>\n",
       "    <tr>\n",
       "      <th>590535</th>\n",
       "      <td>T</td>\n",
       "      <td>T</td>\n",
       "      <td>T</td>\n",
       "      <td>M0</td>\n",
       "      <td>T</td>\n",
       "      <td>F</td>\n",
       "      <td>F</td>\n",
       "      <td>F</td>\n",
       "      <td>T</td>\n",
       "    </tr>\n",
       "    <tr>\n",
       "      <th>590536</th>\n",
       "      <td>T</td>\n",
       "      <td>F</td>\n",
       "      <td>F</td>\n",
       "      <td>M0</td>\n",
       "      <td>F</td>\n",
       "      <td>T</td>\n",
       "      <td>F</td>\n",
       "      <td>F</td>\n",
       "      <td>F</td>\n",
       "    </tr>\n",
       "    <tr>\n",
       "      <th>590537</th>\n",
       "      <td>T</td>\n",
       "      <td>F</td>\n",
       "      <td>F</td>\n",
       "      <td>None</td>\n",
       "      <td>None</td>\n",
       "      <td>T</td>\n",
       "      <td>None</td>\n",
       "      <td>None</td>\n",
       "      <td>None</td>\n",
       "    </tr>\n",
       "    <tr>\n",
       "      <th>590538</th>\n",
       "      <td>T</td>\n",
       "      <td>T</td>\n",
       "      <td>T</td>\n",
       "      <td>M0</td>\n",
       "      <td>F</td>\n",
       "      <td>T</td>\n",
       "      <td>None</td>\n",
       "      <td>None</td>\n",
       "      <td>None</td>\n",
       "    </tr>\n",
       "    <tr>\n",
       "      <th>590539</th>\n",
       "      <td>T</td>\n",
       "      <td>F</td>\n",
       "      <td>F</td>\n",
       "      <td>None</td>\n",
       "      <td>None</td>\n",
       "      <td>T</td>\n",
       "      <td>F</td>\n",
       "      <td>F</td>\n",
       "      <td>F</td>\n",
       "    </tr>\n",
       "  </tbody>\n",
       "</table>\n",
       "</div>"
      ],
      "text/plain": [
       "       M1 M2 M3    M4    M5 M6    M7    M8    M9\n",
       "590535  T  T  T    M0     T  F     F     F     T\n",
       "590536  T  F  F    M0     F  T     F     F     F\n",
       "590537  T  F  F  None  None  T  None  None  None\n",
       "590538  T  T  T    M0     F  T  None  None  None\n",
       "590539  T  F  F  None  None  T     F     F     F"
      ]
     },
     "execution_count": 480,
     "metadata": {},
     "output_type": "execute_result"
    }
   ],
   "source": [
    "df[m].tail()"
   ]
  },
  {
   "cell_type": "markdown",
   "metadata": {},
   "source": [
    "# Lgbm Model"
   ]
  },
  {
   "cell_type": "code",
   "execution_count": 600,
   "metadata": {},
   "outputs": [],
   "source": [
    "choose_features=df.columns[-len(col):]"
   ]
  },
  {
   "cell_type": "code",
   "execution_count": 607,
   "metadata": {},
   "outputs": [],
   "source": [
    "choose_features=list(choose_features)+['TransactionDT', 'TransactionAmt', 'C2', 'C3', 'C5', 'C9', 'C13','D1','D2' ,'D3', 'D4', 'D5',\n",
    "       'D10', 'D11', 'D15', 'month', 'day', 'weekday', 'hour','log_amt', 'decimal_amt', 'is_holiday', 'is_december','card_id_number_of_device', 'day_count', 'hour_count', 'V_pca_0',\n",
    "       'V_pca_1', 'V_pca_2', 'ProductCD_amt']\n",
    "#choose_features=choose_features.remove('isFraud')"
   ]
  },
  {
   "cell_type": "code",
   "execution_count": 608,
   "metadata": {},
   "outputs": [
    {
     "data": {
      "text/plain": [
       "['ProductCD_Encoded',\n",
       " 'card4_Encoded',\n",
       " 'card6_Encoded',\n",
       " 'P_emaildomain_Encoded',\n",
       " 'M1_Encoded',\n",
       " 'M2_Encoded',\n",
       " 'M3_Encoded',\n",
       " 'M4_Encoded',\n",
       " 'M5_Encoded',\n",
       " 'M6_Encoded',\n",
       " 'M7_Encoded',\n",
       " 'M8_Encoded',\n",
       " 'M9_Encoded',\n",
       " 'device_name_Encoded',\n",
       " 'device_version_Encoded',\n",
       " 'OS_id_30_Encoded',\n",
       " 'browser_id_31_Encoded',\n",
       " 'P_emaildomain_bin_Encoded',\n",
       " 'P_emaildomain_suffix_Encoded',\n",
       " 'P_emaildomain_prefix_Encoded',\n",
       " 'card_id_Encoded',\n",
       " 'device_id_Encoded',\n",
       " 'TransactionDT',\n",
       " 'TransactionAmt',\n",
       " 'C2',\n",
       " 'C3',\n",
       " 'C5',\n",
       " 'C9',\n",
       " 'C13',\n",
       " 'D1',\n",
       " 'D2',\n",
       " 'D3',\n",
       " 'D4',\n",
       " 'D5',\n",
       " 'D10',\n",
       " 'D11',\n",
       " 'D15',\n",
       " 'month',\n",
       " 'day',\n",
       " 'weekday',\n",
       " 'hour',\n",
       " 'log_amt',\n",
       " 'decimal_amt',\n",
       " 'is_holiday',\n",
       " 'is_december',\n",
       " 'card_id_number_of_device',\n",
       " 'day_count',\n",
       " 'hour_count',\n",
       " 'V_pca_0',\n",
       " 'V_pca_1',\n",
       " 'V_pca_2',\n",
       " 'ProductCD_amt']"
      ]
     },
     "execution_count": 608,
     "metadata": {},
     "output_type": "execute_result"
    }
   ],
   "source": [
    "choose_features"
   ]
  },
  {
   "cell_type": "markdown",
   "metadata": {},
   "source": [
    "## Unbalanced\n",
    "### Undersample majority class & oversampling minority class"
   ]
  },
  {
   "cell_type": "code",
   "execution_count": 637,
   "metadata": {},
   "outputs": [
    {
     "data": {
      "text/plain": [
       "27.579586700866283"
      ]
     },
     "execution_count": 637,
     "metadata": {},
     "output_type": "execute_result"
    }
   ],
   "source": [
    "len(nonfraud_index[0])/len(fraud_index[0])"
   ]
  },
  {
   "cell_type": "markdown",
   "metadata": {},
   "source": [
    "So upsample fraud to 10 times, downsample nonfraud to same amount."
   ]
  },
  {
   "cell_type": "code",
   "execution_count": 796,
   "metadata": {},
   "outputs": [],
   "source": [
    "# upsample minority\n",
    "np.random.seed(2020)\n",
    "nonfraud_downsampled = np.random.choice(nonfraud_index[0],\n",
    "                          replace=False, \n",
    "                          size=len(fraud_index[0])) # reproducible results\n"
   ]
  },
  {
   "cell_type": "code",
   "execution_count": 798,
   "metadata": {},
   "outputs": [],
   "source": [
    "# combine majority and upsampled minority\n",
    "sampled_index=np.hstack((nonfraud_downsampled,fraud_index[0]))"
   ]
  },
  {
   "cell_type": "markdown",
   "metadata": {},
   "source": [
    "## Set aside 20% for validation"
   ]
  },
  {
   "cell_type": "code",
   "execution_count": 799,
   "metadata": {},
   "outputs": [],
   "source": [
    "n=len(sampled_index)\n",
    "np.random.shuffle(sampled_index)\n",
    "train_index=sampled_index[:int(0.8*n)]\n",
    "val_index=sampled_index[int(0.8*n):]"
   ]
  },
  {
   "cell_type": "code",
   "execution_count": 800,
   "metadata": {},
   "outputs": [
    {
     "data": {
      "text/plain": [
       "41326"
      ]
     },
     "execution_count": 800,
     "metadata": {},
     "output_type": "execute_result"
    }
   ],
   "source": [
    "n"
   ]
  },
  {
   "cell_type": "code",
   "execution_count": 801,
   "metadata": {},
   "outputs": [],
   "source": [
    "train_x=df[choose_features].loc[train_index]\n",
    "train_y=df['isFraud'].loc[train_index]"
   ]
  },
  {
   "cell_type": "code",
   "execution_count": 802,
   "metadata": {},
   "outputs": [],
   "source": [
    "val_x=df[choose_features].loc[val_index]\n",
    "val_y=df['isFraud'].loc[val_index]"
   ]
  },
  {
   "cell_type": "code",
   "execution_count": 803,
   "metadata": {},
   "outputs": [
    {
     "data": {
      "text/plain": [
       "0.5033873699491894"
      ]
     },
     "execution_count": 803,
     "metadata": {},
     "output_type": "execute_result"
    }
   ],
   "source": [
    "np.sum(val_y)/len(val_y)"
   ]
  },
  {
   "cell_type": "code",
   "execution_count": 804,
   "metadata": {},
   "outputs": [
    {
     "data": {
      "text/plain": [
       "0.49915305505142166"
      ]
     },
     "execution_count": 804,
     "metadata": {},
     "output_type": "execute_result"
    }
   ],
   "source": [
    "np.sum(train_y)/len(train_y)"
   ]
  },
  {
   "cell_type": "code",
   "execution_count": 805,
   "metadata": {},
   "outputs": [
    {
     "name": "stdout",
     "output_type": "stream",
     "text": [
      "Training until validation scores don't improve for 100 rounds\n",
      "Early stopping, best iteration is:\n",
      "[566]\tvalid_0's binary_logloss: 0.113422\tvalid_0's auc: 0.992637\n"
     ]
    },
    {
     "data": {
      "text/plain": [
       "LGBMClassifier(boosting_type='gbdt', class_weight=None, colsample_bytree=1.0,\n",
       "               early_stopping_rounds=100, importance_type='split',\n",
       "               learning_rate=0.01, max_depth=-1, metric='auc',\n",
       "               min_child_samples=20, min_child_weight=0.001, min_split_gain=0.0,\n",
       "               n_estimators=20000, n_jobs=-1, num_leaves=256,\n",
       "               objective='binary', random_state=None, reg_alpha=0.0,\n",
       "               reg_lambda=0.0, seed=2020, silent=True, subsample=1.0,\n",
       "               subsample_for_bin=200000, subsample_freq=0, verbose=-1)"
      ]
     },
     "execution_count": 805,
     "metadata": {},
     "output_type": "execute_result"
    }
   ],
   "source": [
    "params={ \n",
    "    'objective':'binary',\n",
    "    'boosting_type':'gbdt',\n",
    "    'metric':'auc',\n",
    "    'n_jobs':-1,\n",
    "    'learning_rate':0.01,\n",
    "    'num_leaves': 2**8,\n",
    "    'max_depth':-1,\n",
    "    'n_estimators':20000,\n",
    "    'verbose':-1,\n",
    "    'seed': 2020,\n",
    "    'early_stopping_rounds':100, \n",
    "}\n",
    "\n",
    "\n",
    "gbm = lgb.LGBMClassifier(**params)\n",
    "gbm.fit(train_x, train_y,\n",
    "        eval_set = [(val_x, val_y)],\n",
    "        eval_metric = ['auc', 'binary_logloss'],\n",
    "        early_stopping_rounds = 100, verbose = -1)"
   ]
  },
  {
   "cell_type": "code",
   "execution_count": 806,
   "metadata": {},
   "outputs": [],
   "source": [
    "pred = gbm.predict(val_x)"
   ]
  },
  {
   "cell_type": "code",
   "execution_count": 807,
   "metadata": {},
   "outputs": [],
   "source": [
    "pd.DataFrame(pred).to_csv('pred_1.csv')"
   ]
  },
  {
   "cell_type": "code",
   "execution_count": 808,
   "metadata": {},
   "outputs": [
    {
     "name": "stdout",
     "output_type": "stream",
     "text": [
      "AUC: 0.9527739894344005\n",
      "Confusion matrix:\n",
      "[[3884  221]\n",
      " [ 169 3992]]\n",
      "              precision    recall  f1-score   support\n",
      "\n",
      "           0       0.96      0.95      0.95      4105\n",
      "           1       0.95      0.96      0.95      4161\n",
      "\n",
      "    accuracy                           0.95      8266\n",
      "   macro avg       0.95      0.95      0.95      8266\n",
      "weighted avg       0.95      0.95      0.95      8266\n",
      "\n"
     ]
    }
   ],
   "source": [
    "print('AUC:', metrics.roc_auc_score(val_y, pred))\n",
    "print('Confusion matrix:')\n",
    "print(metrics.confusion_matrix(val_y, pred))\n",
    "print(metrics.classification_report(val_y, pred))"
   ]
  },
  {
   "cell_type": "code",
   "execution_count": 809,
   "metadata": {},
   "outputs": [
    {
     "data": {
      "text/plain": [
       "<matplotlib.axes._subplots.AxesSubplot at 0x1b43779950>"
      ]
     },
     "execution_count": 809,
     "metadata": {},
     "output_type": "execute_result"
    },
    {
     "data": {
      "image/png": "[encoded data removed]",
      "text/plain": [
       "<Figure size 432x288 with 1 Axes>"
      ]
     },
     "metadata": {
      "needs_background": "light"
     },
     "output_type": "display_data"
    }
   ],
   "source": [
    "lgb.plot_importance(gbm,max_num_features=20)"
   ]
  },
  {
   "cell_type": "code",
   "execution_count": 759,
   "metadata": {},
   "outputs": [],
   "source": [
    "top10_features=['hour_count','TransactionAmt','TransactionDT','day_count','day','card_id_Encoded','hour','device_id_Encoded','V_pca_2','decimal_amt']"
   ]
  },
  {
   "cell_type": "markdown",
   "metadata": {},
   "source": [
    "## fit model with top 10 features"
   ]
  },
  {
   "cell_type": "code",
   "execution_count": 810,
   "metadata": {},
   "outputs": [
    {
     "name": "stdout",
     "output_type": "stream",
     "text": [
      "Training until validation scores don't improve for 100 rounds\n",
      "Early stopping, best iteration is:\n",
      "[498]\tvalid_0's binary_logloss: 0.139878\tvalid_0's auc: 0.988371\n"
     ]
    },
    {
     "data": {
      "text/plain": [
       "LGBMClassifier(boosting_type='gbdt', class_weight=None, colsample_bytree=1.0,\n",
       "               early_stopping_rounds=100, importance_type='split',\n",
       "               learning_rate=0.01, max_depth=-1, metric='auc',\n",
       "               min_child_samples=20, min_child_weight=0.001, min_split_gain=0.0,\n",
       "               n_estimators=20000, n_jobs=-1, num_leaves=256,\n",
       "               objective='binary', random_state=None, reg_alpha=0.0,\n",
       "               reg_lambda=0.0, seed=2020, silent=True, subsample=1.0,\n",
       "               subsample_for_bin=200000, subsample_freq=0, verbose=-1)"
      ]
     },
     "execution_count": 810,
     "metadata": {},
     "output_type": "execute_result"
    }
   ],
   "source": [
    "params={ \n",
    "    'objective':'binary',\n",
    "    'boosting_type':'gbdt',\n",
    "    'metric':'auc',\n",
    "    'n_jobs':-1,\n",
    "    'learning_rate':0.01,\n",
    "    'num_leaves': 2**8,\n",
    "    'max_depth':-1,\n",
    "    'n_estimators':20000,\n",
    "    'verbose':-1,\n",
    "    'seed': 2020,\n",
    "    'early_stopping_rounds':100, \n",
    "}\n",
    "\n",
    "top10_features=['hour_count','TransactionAmt','TransactionDT','day_count',\n",
    "          'day','card_id_Encoded','hour','device_id_Encoded','V_pca_2']\n",
    "gbm2 = lgb.LGBMClassifier(**params)\n",
    "gbm2.fit(train_x[top10_features], train_y,\n",
    "        eval_set = [(val_x[top10_features], val_y)],\n",
    "        eval_metric = ['auc', 'binary_logloss'],\n",
    "        early_stopping_rounds = 100, verbose = -1)"
   ]
  },
  {
   "cell_type": "code",
   "execution_count": 811,
   "metadata": {},
   "outputs": [],
   "source": [
    "pred2 = gbm2.predict(val_x[top10_features])"
   ]
  },
  {
   "cell_type": "code",
   "execution_count": 812,
   "metadata": {},
   "outputs": [
    {
     "name": "stdout",
     "output_type": "stream",
     "text": [
      "AUC: 0.9409356822721043\n",
      "Confusion matrix:\n",
      "[[3846  259]\n",
      " [ 229 3932]]\n",
      "              precision    recall  f1-score   support\n",
      "\n",
      "           0       0.94      0.94      0.94      4105\n",
      "           1       0.94      0.94      0.94      4161\n",
      "\n",
      "    accuracy                           0.94      8266\n",
      "   macro avg       0.94      0.94      0.94      8266\n",
      "weighted avg       0.94      0.94      0.94      8266\n",
      "\n"
     ]
    }
   ],
   "source": [
    "print('AUC:', metrics.roc_auc_score(val_y, pred2))\n",
    "print('Confusion matrix:')\n",
    "print(metrics.confusion_matrix(val_y, pred2))\n",
    "print(metrics.classification_report(val_y, pred2))"
   ]
  },
  {
   "cell_type": "code",
   "execution_count": 813,
   "metadata": {},
   "outputs": [
    {
     "data": {
      "text/plain": [
       "<matplotlib.axes._subplots.AxesSubplot at 0x1b3b4f0d10>"
      ]
     },
     "execution_count": 813,
     "metadata": {},
     "output_type": "execute_result"
    },
    {
     "data": {
      "image/png": "[encoded data removed]",
      "text/plain": [
       "<Figure size 432x288 with 1 Axes>"
      ]
     },
     "metadata": {
      "needs_background": "light"
     },
     "output_type": "display_data"
    }
   ],
   "source": [
    "lgb.plot_importance(gbm2)"
   ]
  },
  {
   "cell_type": "markdown",
   "metadata": {},
   "source": []
  },
  {
   "cell_type": "markdown",
   "metadata": {},
   "source": [
    "# fit top5 features"
   ]
  },
  {
   "cell_type": "code",
   "execution_count": 814,
   "metadata": {},
   "outputs": [
    {
     "name": "stdout",
     "output_type": "stream",
     "text": [
      "Training until validation scores don't improve for 100 rounds\n",
      "Early stopping, best iteration is:\n",
      "[1067]\tvalid_0's binary_logloss: 0.524589\tvalid_0's auc: 0.815839\n",
      "AUC: 0.7368092322977032\n",
      "Confusion matrix:\n",
      "[[3132  973]\n",
      " [1204 2957]]\n",
      "              precision    recall  f1-score   support\n",
      "\n",
      "           0       0.72      0.76      0.74      4105\n",
      "           1       0.75      0.71      0.73      4161\n",
      "\n",
      "    accuracy                           0.74      8266\n",
      "   macro avg       0.74      0.74      0.74      8266\n",
      "weighted avg       0.74      0.74      0.74      8266\n",
      "\n"
     ]
    }
   ],
   "source": [
    "top5_features=['TransactionAmt','hour_count','V_pca_2','TransactionDT','day_count']\n",
    "gbm3 = lgb.LGBMClassifier(**params)\n",
    "gbm3.fit(train_x[top5_features], train_y,\n",
    "        eval_set = [(val_x[top5_features], val_y)],\n",
    "        eval_metric = ['auc', 'binary_logloss'],\n",
    "        early_stopping_rounds = 100, verbose = -1)\n",
    "pred3 = gbm3.predict(val_x[top5_features])\n",
    "print('AUC:', metrics.roc_auc_score(val_y, pred3))\n",
    "print('Confusion matrix:')\n",
    "print(metrics.confusion_matrix(val_y, pred3))\n",
    "print(metrics.classification_report(val_y, pred3))"
   ]
  },
  {
   "cell_type": "markdown",
   "metadata": {},
   "source": [
    "Bad Performace."
   ]
  },
  {
   "cell_type": "markdown",
   "metadata": {},
   "source": [
    "# Top 10 features analysis"
   ]
  },
  {
   "cell_type": "code",
   "execution_count": 816,
   "metadata": {},
   "outputs": [
    {
     "data": {
      "text/plain": [
       "['hour_count',\n",
       " 'TransactionAmt',\n",
       " 'TransactionDT',\n",
       " 'day_count',\n",
       " 'day',\n",
       " 'card_id_Encoded',\n",
       " 'hour',\n",
       " 'device_id_Encoded',\n",
       " 'V_pca_2']"
      ]
     },
     "execution_count": 816,
     "metadata": {},
     "output_type": "execute_result"
    }
   ],
   "source": [
    "top10_features"
   ]
  },
  {
   "cell_type": "markdown",
   "metadata": {},
   "source": [
    "## 1.hour_count"
   ]
  },
  {
   "cell_type": "code",
   "execution_count": 831,
   "metadata": {},
   "outputs": [],
   "source": [
    "temp=df.groupby('hour_count',as_index=False)['isFraud'].agg('sum')"
   ]
  },
  {
   "cell_type": "code",
   "execution_count": 832,
   "metadata": {},
   "outputs": [
    {
     "data": {
      "image/png": "[encoded data removed]",
      "text/plain": [
       "<Figure size 432x288 with 1 Axes>"
      ]
     },
     "metadata": {
      "needs_background": "light"
     },
     "output_type": "display_data"
    }
   ],
   "source": [
    "plt.plot(temp.hour_count,temp.isFraud)\n",
    "plt.xlabel('Transactions in one hour')\n",
    "plt.ylabel('Fraud Transactions')\n",
    "plt.title('Most important feature: hour_count')\n",
    "plt.tight_layout()"
   ]
  },
  {
   "cell_type": "markdown",
   "metadata": {},
   "source": [
    "We can see when there are 200 transactions in one hour, surge"
   ]
  },
  {
   "cell_type": "code",
   "execution_count": 862,
   "metadata": {},
   "outputs": [
    {
     "data": {
      "image/png": "[encoded data removed]",
      "text/plain": [
       "<Figure size 432x288 with 1 Axes>"
      ]
     },
     "metadata": {
      "needs_background": "light"
     },
     "output_type": "display_data"
    }
   ],
   "source": [
    "temp2=df.groupby('hour_count',as_index=False)['isFraud'].agg('count')\n",
    "plt.plot(temp2.hour_count,temp2.isFraud)\n",
    "plt.xlabel('Transactions in one hour')\n",
    "plt.ylabel('Transactions')\n",
    "plt.title('Most important feature: hour_count')\n",
    "plt.tight_layout()"
   ]
  },
  {
   "cell_type": "code",
   "execution_count": 835,
   "metadata": {},
   "outputs": [
    {
     "data": {
      "image/png": "[encoded data removed]",
      "text/plain": [
       "<Figure size 432x288 with 1 Axes>"
      ]
     },
     "metadata": {
      "needs_background": "light"
     },
     "output_type": "display_data"
    }
   ],
   "source": [
    "plt.plot(temp.hour_count,temp.isFraud/temp2.isFraud)\n",
    "plt.xlabel('Transactions in one hour')\n",
    "plt.ylabel('Fraud Rate')\n",
    "plt.title('Most important feature: hour_count')\n",
    "plt.tight_layout()"
   ]
  },
  {
   "cell_type": "code",
   "execution_count": 837,
   "metadata": {},
   "outputs": [
    {
     "data": {
      "text/plain": [
       "0.11956521739130435"
      ]
     },
     "execution_count": 837,
     "metadata": {},
     "output_type": "execute_result"
    }
   ],
   "source": [
    "max(temp.isFraud/temp2.isFraud)"
   ]
  },
  {
   "cell_type": "code",
   "execution_count": 839,
   "metadata": {},
   "outputs": [
    {
     "data": {
      "text/plain": [
       "(array([44]),)"
      ]
     },
     "execution_count": 839,
     "metadata": {},
     "output_type": "execute_result"
    }
   ],
   "source": [
    "np.where(temp.isFraud/temp2.isFraud==max(temp.isFraud/temp2.isFraud))"
   ]
  },
  {
   "cell_type": "code",
   "execution_count": 840,
   "metadata": {},
   "outputs": [
    {
     "data": {
      "text/plain": [
       "46"
      ]
     },
     "execution_count": 840,
     "metadata": {},
     "output_type": "execute_result"
    }
   ],
   "source": [
    "temp.hour_count[44]"
   ]
  },
  {
   "cell_type": "code",
   "execution_count": 851,
   "metadata": {},
   "outputs": [
    {
     "data": {
      "text/plain": [
       "[<matplotlib.lines.Line2D at 0x1b10ba71d0>]"
      ]
     },
     "execution_count": 851,
     "metadata": {},
     "output_type": "execute_result"
    },
    {
     "data": {
      "image/png": "[encoded data removed]",
      "text/plain": [
       "<Figure size 432x288 with 1 Axes>"
      ]
     },
     "metadata": {
      "needs_background": "light"
     },
     "output_type": "display_data"
    }
   ],
   "source": [
    "temp=df.groupby('hour_count',as_index=False)['hour'].agg('mean')['hour']\n",
    "plt.plot(temp.index,temp.values)"
   ]
  },
  {
   "cell_type": "code",
   "execution_count": 850,
   "metadata": {},
   "outputs": [
    {
     "data": {
      "text/html": [
       "<div>\n",
       "<style scoped>\n",
       "    .dataframe tbody tr th:only-of-type {\n",
       "        vertical-align: middle;\n",
       "    }\n",
       "\n",
       "    .dataframe tbody tr th {\n",
       "        vertical-align: top;\n",
       "    }\n",
       "\n",
       "    .dataframe thead th {\n",
       "        text-align: right;\n",
       "    }\n",
       "</style>\n",
       "<table border=\"1\" class=\"dataframe\">\n",
       "  <thead>\n",
       "    <tr style=\"text-align: right;\">\n",
       "      <th></th>\n",
       "      <th>TransactionID</th>\n",
       "      <th>isFraud</th>\n",
       "      <th>TransactionDT</th>\n",
       "      <th>TransactionAmt</th>\n",
       "      <th>ProductCD</th>\n",
       "      <th>card1</th>\n",
       "      <th>card2</th>\n",
       "      <th>card3</th>\n",
       "      <th>card4</th>\n",
       "      <th>card5</th>\n",
       "      <th>...</th>\n",
       "      <th>M9_Encoded</th>\n",
       "      <th>device_name_Encoded</th>\n",
       "      <th>device_version_Encoded</th>\n",
       "      <th>OS_id_30_Encoded</th>\n",
       "      <th>browser_id_31_Encoded</th>\n",
       "      <th>P_emaildomain_bin_Encoded</th>\n",
       "      <th>P_emaildomain_suffix_Encoded</th>\n",
       "      <th>P_emaildomain_prefix_Encoded</th>\n",
       "      <th>card_id_Encoded</th>\n",
       "      <th>device_id_Encoded</th>\n",
       "    </tr>\n",
       "  </thead>\n",
       "  <tbody>\n",
       "    <tr>\n",
       "      <th>7861</th>\n",
       "      <td>3015475</td>\n",
       "      <td>0</td>\n",
       "      <td>713067</td>\n",
       "      <td>34.105</td>\n",
       "      <td>C</td>\n",
       "      <td>3867</td>\n",
       "      <td>296.0</td>\n",
       "      <td>185.0</td>\n",
       "      <td>visa</td>\n",
       "      <td>226.0</td>\n",
       "      <td>...</td>\n",
       "      <td>0.034990</td>\n",
       "      <td>0.065400</td>\n",
       "      <td>3.499001e-02</td>\n",
       "      <td>0.034990</td>\n",
       "      <td>0.078152</td>\n",
       "      <td>0.022052</td>\n",
       "      <td>0.023209</td>\n",
       "      <td>0.022544</td>\n",
       "      <td>1.659432e-03</td>\n",
       "      <td>0.043937</td>\n",
       "    </tr>\n",
       "    <tr>\n",
       "      <th>7862</th>\n",
       "      <td>3015477</td>\n",
       "      <td>0</td>\n",
       "      <td>713159</td>\n",
       "      <td>8.512</td>\n",
       "      <td>C</td>\n",
       "      <td>16136</td>\n",
       "      <td>204.0</td>\n",
       "      <td>185.0</td>\n",
       "      <td>visa</td>\n",
       "      <td>138.0</td>\n",
       "      <td>...</td>\n",
       "      <td>0.034990</td>\n",
       "      <td>0.132174</td>\n",
       "      <td>9.760353e-12</td>\n",
       "      <td>0.034990</td>\n",
       "      <td>0.095952</td>\n",
       "      <td>0.053298</td>\n",
       "      <td>0.037005</td>\n",
       "      <td>0.052516</td>\n",
       "      <td>2.341829e-04</td>\n",
       "      <td>0.004171</td>\n",
       "    </tr>\n",
       "    <tr>\n",
       "      <th>7863</th>\n",
       "      <td>3015479</td>\n",
       "      <td>0</td>\n",
       "      <td>713329</td>\n",
       "      <td>100.000</td>\n",
       "      <td>H</td>\n",
       "      <td>5714</td>\n",
       "      <td>170.0</td>\n",
       "      <td>150.0</td>\n",
       "      <td>visa</td>\n",
       "      <td>195.0</td>\n",
       "      <td>...</td>\n",
       "      <td>0.034990</td>\n",
       "      <td>0.062683</td>\n",
       "      <td>3.499001e-02</td>\n",
       "      <td>0.062683</td>\n",
       "      <td>0.075514</td>\n",
       "      <td>0.043496</td>\n",
       "      <td>0.037005</td>\n",
       "      <td>0.043496</td>\n",
       "      <td>9.410263e-03</td>\n",
       "      <td>0.022222</td>\n",
       "    </tr>\n",
       "    <tr>\n",
       "      <th>7864</th>\n",
       "      <td>3015481</td>\n",
       "      <td>0</td>\n",
       "      <td>713378</td>\n",
       "      <td>100.000</td>\n",
       "      <td>H</td>\n",
       "      <td>5714</td>\n",
       "      <td>170.0</td>\n",
       "      <td>150.0</td>\n",
       "      <td>visa</td>\n",
       "      <td>195.0</td>\n",
       "      <td>...</td>\n",
       "      <td>0.034990</td>\n",
       "      <td>0.062683</td>\n",
       "      <td>3.499001e-02</td>\n",
       "      <td>0.062683</td>\n",
       "      <td>0.075514</td>\n",
       "      <td>0.043496</td>\n",
       "      <td>0.037005</td>\n",
       "      <td>0.043496</td>\n",
       "      <td>9.410263e-03</td>\n",
       "      <td>0.022222</td>\n",
       "    </tr>\n",
       "    <tr>\n",
       "      <th>7865</th>\n",
       "      <td>3015483</td>\n",
       "      <td>0</td>\n",
       "      <td>713403</td>\n",
       "      <td>50.000</td>\n",
       "      <td>H</td>\n",
       "      <td>8406</td>\n",
       "      <td>264.0</td>\n",
       "      <td>150.0</td>\n",
       "      <td>visa</td>\n",
       "      <td>226.0</td>\n",
       "      <td>...</td>\n",
       "      <td>0.034990</td>\n",
       "      <td>0.022111</td>\n",
       "      <td>3.499001e-02</td>\n",
       "      <td>0.021944</td>\n",
       "      <td>0.027376</td>\n",
       "      <td>0.043496</td>\n",
       "      <td>0.037005</td>\n",
       "      <td>0.043496</td>\n",
       "      <td>4.170911e-03</td>\n",
       "      <td>0.000000</td>\n",
       "    </tr>\n",
       "    <tr>\n",
       "      <th>...</th>\n",
       "      <td>...</td>\n",
       "      <td>...</td>\n",
       "      <td>...</td>\n",
       "      <td>...</td>\n",
       "      <td>...</td>\n",
       "      <td>...</td>\n",
       "      <td>...</td>\n",
       "      <td>...</td>\n",
       "      <td>...</td>\n",
       "      <td>...</td>\n",
       "      <td>...</td>\n",
       "      <td>...</td>\n",
       "      <td>...</td>\n",
       "      <td>...</td>\n",
       "      <td>...</td>\n",
       "      <td>...</td>\n",
       "      <td>...</td>\n",
       "      <td>...</td>\n",
       "      <td>...</td>\n",
       "      <td>...</td>\n",
       "      <td>...</td>\n",
       "    </tr>\n",
       "    <tr>\n",
       "      <th>580837</th>\n",
       "      <td>3565741</td>\n",
       "      <td>0</td>\n",
       "      <td>15421899</td>\n",
       "      <td>49.000</td>\n",
       "      <td>W</td>\n",
       "      <td>15084</td>\n",
       "      <td>432.0</td>\n",
       "      <td>150.0</td>\n",
       "      <td>visa</td>\n",
       "      <td>226.0</td>\n",
       "      <td>...</td>\n",
       "      <td>0.017787</td>\n",
       "      <td>0.034990</td>\n",
       "      <td>3.499001e-02</td>\n",
       "      <td>0.034990</td>\n",
       "      <td>0.034990</td>\n",
       "      <td>0.029538</td>\n",
       "      <td>0.029538</td>\n",
       "      <td>0.029538</td>\n",
       "      <td>1.659432e-03</td>\n",
       "      <td>0.021006</td>\n",
       "    </tr>\n",
       "    <tr>\n",
       "      <th>580838</th>\n",
       "      <td>3565744</td>\n",
       "      <td>0</td>\n",
       "      <td>15422148</td>\n",
       "      <td>65.950</td>\n",
       "      <td>W</td>\n",
       "      <td>12544</td>\n",
       "      <td>321.0</td>\n",
       "      <td>150.0</td>\n",
       "      <td>visa</td>\n",
       "      <td>226.0</td>\n",
       "      <td>...</td>\n",
       "      <td>0.017787</td>\n",
       "      <td>0.034990</td>\n",
       "      <td>3.499001e-02</td>\n",
       "      <td>0.034990</td>\n",
       "      <td>0.034990</td>\n",
       "      <td>0.022052</td>\n",
       "      <td>0.037005</td>\n",
       "      <td>0.022544</td>\n",
       "      <td>1.173390e-05</td>\n",
       "      <td>0.021006</td>\n",
       "    </tr>\n",
       "    <tr>\n",
       "      <th>580839</th>\n",
       "      <td>3565746</td>\n",
       "      <td>0</td>\n",
       "      <td>15422158</td>\n",
       "      <td>59.000</td>\n",
       "      <td>W</td>\n",
       "      <td>14065</td>\n",
       "      <td>298.0</td>\n",
       "      <td>150.0</td>\n",
       "      <td>visa</td>\n",
       "      <td>195.0</td>\n",
       "      <td>...</td>\n",
       "      <td>0.017787</td>\n",
       "      <td>0.034990</td>\n",
       "      <td>3.499001e-02</td>\n",
       "      <td>0.034990</td>\n",
       "      <td>0.034990</td>\n",
       "      <td>0.025914</td>\n",
       "      <td>0.037005</td>\n",
       "      <td>0.023217</td>\n",
       "      <td>3.499001e-02</td>\n",
       "      <td>0.021006</td>\n",
       "    </tr>\n",
       "    <tr>\n",
       "      <th>580840</th>\n",
       "      <td>3565747</td>\n",
       "      <td>0</td>\n",
       "      <td>15422191</td>\n",
       "      <td>105.000</td>\n",
       "      <td>W</td>\n",
       "      <td>2884</td>\n",
       "      <td>490.0</td>\n",
       "      <td>150.0</td>\n",
       "      <td>visa</td>\n",
       "      <td>226.0</td>\n",
       "      <td>...</td>\n",
       "      <td>0.017787</td>\n",
       "      <td>0.034990</td>\n",
       "      <td>3.499001e-02</td>\n",
       "      <td>0.034990</td>\n",
       "      <td>0.034990</td>\n",
       "      <td>0.022969</td>\n",
       "      <td>0.037005</td>\n",
       "      <td>0.021811</td>\n",
       "      <td>1.070352e-08</td>\n",
       "      <td>0.021006</td>\n",
       "    </tr>\n",
       "    <tr>\n",
       "      <th>580841</th>\n",
       "      <td>3565751</td>\n",
       "      <td>0</td>\n",
       "      <td>15422393</td>\n",
       "      <td>206.000</td>\n",
       "      <td>W</td>\n",
       "      <td>13052</td>\n",
       "      <td>254.0</td>\n",
       "      <td>150.0</td>\n",
       "      <td>visa</td>\n",
       "      <td>226.0</td>\n",
       "      <td>...</td>\n",
       "      <td>0.017787</td>\n",
       "      <td>0.034990</td>\n",
       "      <td>3.499001e-02</td>\n",
       "      <td>0.034990</td>\n",
       "      <td>0.034990</td>\n",
       "      <td>0.025914</td>\n",
       "      <td>0.037005</td>\n",
       "      <td>0.023217</td>\n",
       "      <td>2.909517e-08</td>\n",
       "      <td>0.021006</td>\n",
       "    </tr>\n",
       "  </tbody>\n",
       "</table>\n",
       "<p>644 rows × 111 columns</p>\n",
       "</div>"
      ],
      "text/plain": [
       "        TransactionID  isFraud  TransactionDT  TransactionAmt ProductCD  \\\n",
       "7861          3015475        0         713067          34.105         C   \n",
       "7862          3015477        0         713159           8.512         C   \n",
       "7863          3015479        0         713329         100.000         H   \n",
       "7864          3015481        0         713378         100.000         H   \n",
       "7865          3015483        0         713403          50.000         H   \n",
       "...               ...      ...            ...             ...       ...   \n",
       "580837        3565741        0       15421899          49.000         W   \n",
       "580838        3565744        0       15422148          65.950         W   \n",
       "580839        3565746        0       15422158          59.000         W   \n",
       "580840        3565747        0       15422191         105.000         W   \n",
       "580841        3565751        0       15422393         206.000         W   \n",
       "\n",
       "        card1  card2  card3 card4  card5  ... M9_Encoded  device_name_Encoded  \\\n",
       "7861     3867  296.0  185.0  visa  226.0  ...   0.034990             0.065400   \n",
       "7862    16136  204.0  185.0  visa  138.0  ...   0.034990             0.132174   \n",
       "7863     5714  170.0  150.0  visa  195.0  ...   0.034990             0.062683   \n",
       "7864     5714  170.0  150.0  visa  195.0  ...   0.034990             0.062683   \n",
       "7865     8406  264.0  150.0  visa  226.0  ...   0.034990             0.022111   \n",
       "...       ...    ...    ...   ...    ...  ...        ...                  ...   \n",
       "580837  15084  432.0  150.0  visa  226.0  ...   0.017787             0.034990   \n",
       "580838  12544  321.0  150.0  visa  226.0  ...   0.017787             0.034990   \n",
       "580839  14065  298.0  150.0  visa  195.0  ...   0.017787             0.034990   \n",
       "580840   2884  490.0  150.0  visa  226.0  ...   0.017787             0.034990   \n",
       "580841  13052  254.0  150.0  visa  226.0  ...   0.017787             0.034990   \n",
       "\n",
       "        device_version_Encoded  OS_id_30_Encoded browser_id_31_Encoded  \\\n",
       "7861              3.499001e-02          0.034990              0.078152   \n",
       "7862              9.760353e-12          0.034990              0.095952   \n",
       "7863              3.499001e-02          0.062683              0.075514   \n",
       "7864              3.499001e-02          0.062683              0.075514   \n",
       "7865              3.499001e-02          0.021944              0.027376   \n",
       "...                        ...               ...                   ...   \n",
       "580837            3.499001e-02          0.034990              0.034990   \n",
       "580838            3.499001e-02          0.034990              0.034990   \n",
       "580839            3.499001e-02          0.034990              0.034990   \n",
       "580840            3.499001e-02          0.034990              0.034990   \n",
       "580841            3.499001e-02          0.034990              0.034990   \n",
       "\n",
       "        P_emaildomain_bin_Encoded  P_emaildomain_suffix_Encoded  \\\n",
       "7861                     0.022052                      0.023209   \n",
       "7862                     0.053298                      0.037005   \n",
       "7863                     0.043496                      0.037005   \n",
       "7864                     0.043496                      0.037005   \n",
       "7865                     0.043496                      0.037005   \n",
       "...                           ...                           ...   \n",
       "580837                   0.029538                      0.029538   \n",
       "580838                   0.022052                      0.037005   \n",
       "580839                   0.025914                      0.037005   \n",
       "580840                   0.022969                      0.037005   \n",
       "580841                   0.025914                      0.037005   \n",
       "\n",
       "        P_emaildomain_prefix_Encoded  card_id_Encoded  device_id_Encoded  \n",
       "7861                        0.022544     1.659432e-03           0.043937  \n",
       "7862                        0.052516     2.341829e-04           0.004171  \n",
       "7863                        0.043496     9.410263e-03           0.022222  \n",
       "7864                        0.043496     9.410263e-03           0.022222  \n",
       "7865                        0.043496     4.170911e-03           0.000000  \n",
       "...                              ...              ...                ...  \n",
       "580837                      0.029538     1.659432e-03           0.021006  \n",
       "580838                      0.022544     1.173390e-05           0.021006  \n",
       "580839                      0.023217     3.499001e-02           0.021006  \n",
       "580840                      0.021811     1.070352e-08           0.021006  \n",
       "580841                      0.023217     2.909517e-08           0.021006  \n",
       "\n",
       "[644 rows x 111 columns]"
      ]
     },
     "execution_count": 850,
     "metadata": {},
     "output_type": "execute_result"
    }
   ],
   "source": [
    "temp=df[df['hour_count']==46]"
   ]
  },
  {
   "cell_type": "markdown",
   "metadata": {},
   "source": [
    "## 2.daycount"
   ]
  },
  {
   "cell_type": "code",
   "execution_count": 853,
   "metadata": {},
   "outputs": [],
   "source": [
    "temp=df.groupby('day_count',as_index=False)['isFraud'].agg('sum')"
   ]
  },
  {
   "cell_type": "code",
   "execution_count": 856,
   "metadata": {},
   "outputs": [
    {
     "data": {
      "image/png": "[encoded data removed]",
      "text/plain": [
       "<Figure size 432x288 with 1 Axes>"
      ]
     },
     "metadata": {
      "needs_background": "light"
     },
     "output_type": "display_data"
    }
   ],
   "source": [
    "plt.plot(temp.day_count,temp.isFraud)\n",
    "plt.xlabel('Transactions in one hour')\n",
    "plt.ylabel('Fraud Transactions')\n",
    "plt.title('Important feature: hour_count')\n",
    "plt.tight_layout()"
   ]
  },
  {
   "cell_type": "code",
   "execution_count": 864,
   "metadata": {},
   "outputs": [
    {
     "data": {
      "image/png": "[encoded data removed]",
      "text/plain": [
       "<Figure size 432x288 with 1 Axes>"
      ]
     },
     "metadata": {
      "needs_background": "light"
     },
     "output_type": "display_data"
    }
   ],
   "source": [
    "temp2=df.groupby('day_count',as_index=False)['isFraud'].agg('count')\n",
    "plt.plot(temp2.day_count,temp2.isFraud)\n",
    "plt.xlabel('Transactions in one day')\n",
    "plt.ylabel('Transactions')\n",
    "plt.title('Important feature: day_count')\n",
    "plt.tight_layout()"
   ]
  },
  {
   "cell_type": "code",
   "execution_count": 866,
   "metadata": {},
   "outputs": [
    {
     "data": {
      "image/png": "[encoded data removed]",
      "text/plain": [
       "<Figure size 432x288 with 1 Axes>"
      ]
     },
     "metadata": {
      "needs_background": "light"
     },
     "output_type": "display_data"
    }
   ],
   "source": [
    "plt.plot(temp.day_count,temp.isFraud/temp2.isFraud)\n",
    "plt.xlabel('Transactions in one day')\n",
    "plt.ylabel('Fraud Rate')\n",
    "plt.title('Important feature: day_count')\n",
    "plt.tight_layout()"
   ]
  },
  {
   "cell_type": "code",
   "execution_count": 868,
   "metadata": {},
   "outputs": [
    {
     "data": {
      "text/plain": [
       "(array([16]),)"
      ]
     },
     "execution_count": 868,
     "metadata": {},
     "output_type": "execute_result"
    }
   ],
   "source": [
    "np.where(temp.isFraud/temp2.isFraud==max(temp.isFraud/temp2.isFraud))"
   ]
  },
  {
   "cell_type": "code",
   "execution_count": 869,
   "metadata": {},
   "outputs": [
    {
     "data": {
      "text/plain": [
       "2402"
      ]
     },
     "execution_count": 869,
     "metadata": {},
     "output_type": "execute_result"
    }
   ],
   "source": [
    "temp.day_count[16]"
   ]
  },
  {
   "cell_type": "code",
   "execution_count": 870,
   "metadata": {},
   "outputs": [
    {
     "data": {
      "text/plain": [
       "[<matplotlib.lines.Line2D at 0x1b17c84cd0>]"
      ]
     },
     "execution_count": 870,
     "metadata": {},
     "output_type": "execute_result"
    },
    {
     "data": {
      "image/png": "[encoded data removed]",
      "text/plain": [
       "<Figure size 432x288 with 1 Axes>"
      ]
     },
     "metadata": {
      "needs_background": "light"
     },
     "output_type": "display_data"
    }
   ],
   "source": [
    "temp=df.groupby('day_count',as_index=False)['day'].agg('mean')['day']\n",
    "plt.plot(temp.index,temp.values)"
   ]
  },
  {
   "cell_type": "markdown",
   "metadata": {},
   "source": [
    "## 3.card_id_Encoded"
   ]
  },
  {
   "cell_type": "code",
   "execution_count": 877,
   "metadata": {},
   "outputs": [],
   "source": [
    "temp=df['card_id'].value_counts()"
   ]
  },
  {
   "cell_type": "code",
   "execution_count": 880,
   "metadata": {},
   "outputs": [
    {
     "data": {
      "text/plain": [
       "15775 481.0 150.0 mastercard 102.0 credit 464.0 464.0    1413\n",
       "9500 321.0 150.0 visa 226.0 debit 250.0 250.0             479\n",
       "7919 194.0 150.0 mastercard 166.0 debit 427.0 nan         259\n",
       "12616 490.0 150.0 visa nan credit -156.0 nan              242\n",
       "8900 385.0 150.0 visa 226.0 debit 275.0 275.0             231\n",
       "8528 215.0 150.0 visa 226.0 debit 176.0 176.0             215\n",
       "12741 106.0 150.0 visa 226.0 debit 133.0 133.0            196\n",
       "7207 111.0 150.0 visa 226.0 debit -130.0 -130.0           192\n",
       "7919 194.0 150.0 mastercard 166.0 debit 459.0 nan         174\n",
       "7919 194.0 150.0 mastercard 166.0 debit 427.0 427.0       174\n",
       "6019 583.0 150.0 visa 226.0 credit 360.0 nan              172\n",
       "6019 583.0 150.0 visa 226.0 credit 359.0 nan              169\n",
       "7919 194.0 150.0 mastercard 202.0 debit 398.0 nan         169\n",
       "7919 194.0 150.0 mastercard 202.0 debit 369.0 nan         161\n",
       "7919 194.0 150.0 mastercard 202.0 debit 399.0 nan         152\n",
       "13597 198.0 150.0 visa 226.0 debit 287.0 287.0            147\n",
       "7919 194.0 150.0 mastercard 166.0 debit 489.0 nan         146\n",
       "4121 361.0 150.0 visa 226.0 credit 327.0 327.0            142\n",
       "6019 583.0 150.0 visa 226.0 credit 357.0 nan              139\n",
       "7919 194.0 150.0 mastercard 166.0 debit 487.0 nan         138\n",
       "Name: card_id, dtype: int64"
      ]
     },
     "execution_count": 880,
     "metadata": {},
     "output_type": "execute_result"
    }
   ],
   "source": [
    "temp[:20]"
   ]
  },
  {
   "cell_type": "code",
   "execution_count": 937,
   "metadata": {},
   "outputs": [],
   "source": [
    "temp2=df.groupby('card_id')['isFraud'].agg('sum')"
   ]
  },
  {
   "cell_type": "code",
   "execution_count": 934,
   "metadata": {},
   "outputs": [],
   "source": [
    "f_cardid=temp2[temp2>50]"
   ]
  },
  {
   "cell_type": "code",
   "execution_count": 915,
   "metadata": {},
   "outputs": [],
   "source": [
    "zerofraud=np.sum(temp2==0)"
   ]
  },
  {
   "cell_type": "code",
   "execution_count": 916,
   "metadata": {},
   "outputs": [
    {
     "data": {
      "text/plain": [
       "0.9524973012822201"
      ]
     },
     "execution_count": 916,
     "metadata": {},
     "output_type": "execute_result"
    }
   ],
   "source": [
    "zerofraud/len(temp2) #95.2% cards have no fraud record"
   ]
  },
  {
   "cell_type": "code",
   "execution_count": 894,
   "metadata": {},
   "outputs": [],
   "source": [
    "onefraud=zerofraud=np.sum(temp2==1)"
   ]
  },
  {
   "cell_type": "code",
   "execution_count": 895,
   "metadata": {},
   "outputs": [
    {
     "data": {
      "text/plain": [
       "0.02865116768910771"
      ]
     },
     "execution_count": 895,
     "metadata": {},
     "output_type": "execute_result"
    }
   ],
   "source": [
    "onefraud/len(temp2)"
   ]
  },
  {
   "cell_type": "code",
   "execution_count": 896,
   "metadata": {},
   "outputs": [],
   "source": [
    "twofraud=zerofraud=np.sum(temp2==2)"
   ]
  },
  {
   "cell_type": "code",
   "execution_count": 898,
   "metadata": {},
   "outputs": [
    {
     "data": {
      "text/plain": [
       "0.008630631105026198"
      ]
     },
     "execution_count": 898,
     "metadata": {},
     "output_type": "execute_result"
    }
   ],
   "source": [
    "twofraud/len(temp2)"
   ]
  },
  {
   "cell_type": "code",
   "execution_count": 905,
   "metadata": {},
   "outputs": [],
   "source": [
    "frefraud=np.sum(temp2>2)"
   ]
  },
  {
   "cell_type": "code",
   "execution_count": 906,
   "metadata": {},
   "outputs": [
    {
     "data": {
      "text/plain": [
       "0.010220899923646033"
      ]
     },
     "execution_count": 906,
     "metadata": {},
     "output_type": "execute_result"
    }
   ],
   "source": [
    "frefraud/len(temp2)"
   ]
  },
  {
   "cell_type": "code",
   "execution_count": 918,
   "metadata": {},
   "outputs": [
    {
     "data": {
      "text/plain": [
       "Text(0.5, 1.0, 'Important feature: card_id')"
      ]
     },
     "execution_count": 918,
     "metadata": {},
     "output_type": "execute_result"
    },
    {
     "data": {
      "image/png": "[encoded data removed]",
      "text/plain": [
       "<Figure size 432x288 with 1 Axes>"
      ]
     },
     "metadata": {
      "needs_background": "light"
     },
     "output_type": "display_data"
    }
   ],
   "source": [
    "plt.bar([0,1,2,3],[zerofraud/len(temp2),onefraud/len(temp2),twofraud/len(temp2),frefraud/len(temp2)])\n",
    "plt.xticks(np.arange(0,4),labels=['0','1','2','>2'])\n",
    "plt.xlabel('Number of fraud trasactions on one card')\n",
    "plt.ylabel('Card')\n",
    "plt.title('Important feature: card_id')\n"
   ]
  },
  {
   "cell_type": "code",
   "execution_count": 921,
   "metadata": {},
   "outputs": [
    {
     "data": {
      "text/plain": [
       "Text(0.5, 1.0, 'Important feature: card_id')"
      ]
     },
     "execution_count": 921,
     "metadata": {},
     "output_type": "execute_result"
    },
    {
     "data": {
      "image/png": "[encoded data removed]",
      "text/plain": [
       "<Figure size 432x288 with 1 Axes>"
      ]
     },
     "metadata": {
      "needs_background": "light"
     },
     "output_type": "display_data"
    }
   ],
   "source": [
    "plt.bar([1,2,3],[onefraud/len(temp2),twofraud/len(temp2),frefraud/len(temp2)])\n",
    "plt.xticks(np.arange(1,4),labels=['1','2','>2'])\n",
    "plt.xlabel('Number of fraud trasactions on one card')\n",
    "plt.ylabel('Card')\n",
    "plt.title('Important feature: card_id')"
   ]
  },
  {
   "cell_type": "markdown",
   "metadata": {},
   "source": [
    "## 4. device_id"
   ]
  },
  {
   "cell_type": "code",
   "execution_count": 922,
   "metadata": {},
   "outputs": [],
   "source": [
    "temp=df['device_id'].value_counts()"
   ]
  },
  {
   "cell_type": "code",
   "execution_count": 940,
   "metadata": {},
   "outputs": [
    {
     "data": {
      "text/plain": [
       "nannannannannannan                                  449680\n",
       "nanchrome 63.0nannandesktopWindows                    6351\n",
       "nanmobile safari genericnannanmobilenan               4961\n",
       "nanmobile safari 11.0nannanmobilenan                  3244\n",
       "nanchrome 63.0nannandesktopnan                        3136\n",
       "nanchrome 64.0nannandesktopWindows                    2838\n",
       "Windows 10chrome 63.024.01920x1080desktopWindows      2566\n",
       "nanchrome 65.0nannandesktopWindows                    2523\n",
       "nanchrome 66.0nannandesktopWindows                    1531\n",
       "nanchrome 62.0nannandesktopWindows                    1422\n",
       "Name: device_id, dtype: int64"
      ]
     },
     "execution_count": 940,
     "metadata": {},
     "output_type": "execute_result"
    }
   ],
   "source": [
    "temp[:10]"
   ]
  },
  {
   "cell_type": "code",
   "execution_count": null,
   "metadata": {},
   "outputs": [],
   "source": []
  },
  {
   "cell_type": "code",
   "execution_count": 925,
   "metadata": {},
   "outputs": [],
   "source": [
    "temp2=df.groupby('card_id')['isFraud'].agg('sum')"
   ]
  },
  {
   "cell_type": "code",
   "execution_count": 928,
   "metadata": {},
   "outputs": [],
   "source": [
    "n=len(temp2)\n",
    "ln=[]\n",
    "for i in range(4):\n",
    "    ln.append(np.sum(temp2==i)/n)"
   ]
  },
  {
   "cell_type": "code",
   "execution_count": 931,
   "metadata": {},
   "outputs": [],
   "source": [
    "ln=ln[:-1]\n",
    "ln=ln+[1-np.sum(ln)]"
   ]
  },
  {
   "cell_type": "code",
   "execution_count": 932,
   "metadata": {},
   "outputs": [
    {
     "data": {
      "text/plain": [
       "Text(0.5, 1.0, 'Important feature: card_id')"
      ]
     },
     "execution_count": 932,
     "metadata": {},
     "output_type": "execute_result"
    },
    {
     "data": {
      "image/png": "[encoded data removed]",
      "text/plain": [
       "<Figure size 432x288 with 1 Axes>"
      ]
     },
     "metadata": {
      "needs_background": "light"
     },
     "output_type": "display_data"
    }
   ],
   "source": [
    "plt.bar([0,1,2,3],ln)\n",
    "plt.xticks(np.arange(0,4),labels=['0','1','2','>2'])\n",
    "plt.xlabel('Number of fraud trasactions on one device')\n",
    "plt.ylabel('Device')\n",
    "plt.title('Important feature: device_id')\n"
   ]
  },
  {
   "cell_type": "code",
   "execution_count": 933,
   "metadata": {},
   "outputs": [
    {
     "data": {
      "text/plain": [
       "Text(0.5, 1.0, 'Important feature: device_id')"
      ]
     },
     "execution_count": 933,
     "metadata": {},
     "output_type": "execute_result"
    },
    {
     "data": {
      "image/png": "[encoded data removed]",
      "text/plain": [
       "<Figure size 432x288 with 1 Axes>"
      ]
     },
     "metadata": {
      "needs_background": "light"
     },
     "output_type": "display_data"
    }
   ],
   "source": [
    "plt.bar([1,2,3],ln[1:])\n",
    "plt.xticks(np.arange(1,4),labels=['1','2','>2'])\n",
    "plt.xlabel('Number of fraud trasactions on one device')\n",
    "plt.ylabel('Device')\n",
    "plt.title('Important feature: device_id')"
   ]
  },
  {
   "cell_type": "code",
   "execution_count": null,
   "metadata": {},
   "outputs": [],
   "source": []
  }
 ],
 "metadata": {
  "kernelspec": {
   "display_name": "Python 3",
   "language": "python",
   "name": "python3"
  },
  "language_info": {
   "codemirror_mode": {
    "name": "ipython",
    "version": 3
   },
   "file_extension": ".py",
   "mimetype": "text/x-python",
   "name": "python",
   "nbconvert_exporter": "python",
   "pygments_lexer": "ipython3",
   "version": "3.7.6"
  }
 },
 "nbformat": 4,
 "nbformat_minor": 4
}
